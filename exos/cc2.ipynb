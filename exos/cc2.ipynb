{
 "cells": [
  {
   "cell_type": "markdown",
   "metadata": {},
   "source": [
    "# Contrôle continu n°2 "
   ]
  },
  {
   "cell_type": "code",
   "execution_count": 1,
   "metadata": {},
   "outputs": [
    {
     "name": "stdout",
     "output_type": "stream",
     "text": [
      "Chargement des données effectué.\n"
     ]
    }
   ],
   "source": [
    "import numpy as np\n",
    "import pandas as pd\n",
    "import matplotlib.pyplot as plt\n",
    "import xgboost as xgb\n",
    "\n",
    "from sklearn.preprocessing import LabelEncoder, OneHotEncoder\n",
    "from sklearn.model_selection import train_test_split\n",
    "from sklearn.metrics import r2_score\n",
    "from sklearn.model_selection import GridSearchCV, KFold\n",
    "\n",
    "prices = pd.read_csv(\"../data/price_availability.csv\", sep=\";\")\n",
    "listings = pd.read_csv(\"../data/listings_final.csv\", sep=\";\")\n",
    "intersects = np.intersect1d(np.unique(prices['listing_id']), np.unique(listings['listing_id']))\n",
    "listings_prices = prices[prices['listing_id'].isin(intersects)]\n",
    "\n",
    "# Plus le droit d'utiliser ces variables !\n",
    "del prices\n",
    "del intersects\n",
    "\n",
    "dates =  pd.to_datetime(listings_prices[\"day\"], format='%Y-%m-%d')\n",
    "range_prices = listings_prices.assign(date=dates).set_index(dates).groupby(['listing_id', pd.Grouper(key='date', freq='7D')]).mean().reset_index()\n",
    "\n",
    "print(\"Chargement des données effectué.\")"
   ]
  },
  {
   "cell_type": "markdown",
   "metadata": {},
   "source": [
    "## (•) Question 1\n",
    "\n",
    "**Récupérer la colône type du dataset listings***."
   ]
  },
  {
   "cell_type": "code",
   "execution_count": 34,
   "metadata": {},
   "outputs": [
    {
     "name": "stdout",
     "output_type": "stream",
     "text": [
      "0    private_room\n",
      "1     entire_home\n",
      "2    private_room\n",
      "3     entire_home\n",
      "4     entire_home\n",
      "Name: type, dtype: object\n"
     ]
    }
   ],
   "source": []
  },
  {
   "cell_type": "markdown",
   "metadata": {},
   "source": [
    "## (•) Question 2\n",
    "\n",
    "**Supprimer la ligne numéro 547 du dataset listings***."
   ]
  },
  {
   "cell_type": "code",
   "execution_count": 39,
   "metadata": {},
   "outputs": [],
   "source": []
  },
  {
   "cell_type": "markdown",
   "metadata": {},
   "source": [
    "## (•) Question 3\n",
    "\n",
    "**Construire un nouveau dataset sans le type private_room à partir du dataset listings***."
   ]
  },
  {
   "cell_type": "code",
   "execution_count": 35,
   "metadata": {},
   "outputs": [],
   "source": []
  },
  {
   "cell_type": "markdown",
   "metadata": {},
   "source": [
    "## (•) Question 4\n",
    "\n",
    "**Effectuer une encodage par dictionnaire sur la date dans une nouvelle colonne nommée *date_dict***."
   ]
  },
  {
   "cell_type": "code",
   "execution_count": 8,
   "metadata": {},
   "outputs": [
    {
     "data": {
      "text/html": [
       "<div>\n",
       "<style scoped>\n",
       "    .dataframe tbody tr th:only-of-type {\n",
       "        vertical-align: middle;\n",
       "    }\n",
       "\n",
       "    .dataframe tbody tr th {\n",
       "        vertical-align: top;\n",
       "    }\n",
       "\n",
       "    .dataframe thead th {\n",
       "        text-align: right;\n",
       "    }\n",
       "</style>\n",
       "<table border=\"1\" class=\"dataframe\">\n",
       "  <thead>\n",
       "    <tr style=\"text-align: right;\">\n",
       "      <th></th>\n",
       "      <th>listing_id</th>\n",
       "      <th>date</th>\n",
       "      <th>available</th>\n",
       "      <th>local_price</th>\n",
       "      <th>min_nights</th>\n",
       "      <th>date_dict</th>\n",
       "    </tr>\n",
       "  </thead>\n",
       "  <tbody>\n",
       "    <tr>\n",
       "      <th>0</th>\n",
       "      <td>56093</td>\n",
       "      <td>2018-08-27</td>\n",
       "      <td>0.0</td>\n",
       "      <td>170.0</td>\n",
       "      <td>4.0</td>\n",
       "      <td>0</td>\n",
       "    </tr>\n",
       "    <tr>\n",
       "      <th>1</th>\n",
       "      <td>56093</td>\n",
       "      <td>2018-09-03</td>\n",
       "      <td>0.0</td>\n",
       "      <td>170.0</td>\n",
       "      <td>4.0</td>\n",
       "      <td>1</td>\n",
       "    </tr>\n",
       "    <tr>\n",
       "      <th>2</th>\n",
       "      <td>56093</td>\n",
       "      <td>2018-09-10</td>\n",
       "      <td>0.0</td>\n",
       "      <td>170.0</td>\n",
       "      <td>4.0</td>\n",
       "      <td>2</td>\n",
       "    </tr>\n",
       "    <tr>\n",
       "      <th>3</th>\n",
       "      <td>56093</td>\n",
       "      <td>2018-09-17</td>\n",
       "      <td>0.0</td>\n",
       "      <td>170.0</td>\n",
       "      <td>4.0</td>\n",
       "      <td>3</td>\n",
       "    </tr>\n",
       "    <tr>\n",
       "      <th>4</th>\n",
       "      <td>56093</td>\n",
       "      <td>2018-09-24</td>\n",
       "      <td>0.0</td>\n",
       "      <td>170.0</td>\n",
       "      <td>4.0</td>\n",
       "      <td>4</td>\n",
       "    </tr>\n",
       "  </tbody>\n",
       "</table>\n",
       "</div>"
      ],
      "text/plain": [
       "   listing_id       date  available  local_price  min_nights  date_dict\n",
       "0       56093 2018-08-27        0.0        170.0         4.0          0\n",
       "1       56093 2018-09-03        0.0        170.0         4.0          1\n",
       "2       56093 2018-09-10        0.0        170.0         4.0          2\n",
       "3       56093 2018-09-17        0.0        170.0         4.0          3\n",
       "4       56093 2018-09-24        0.0        170.0         4.0          4"
      ]
     },
     "execution_count": 8,
     "metadata": {},
     "output_type": "execute_result"
    }
   ],
   "source": []
  },
  {
   "cell_type": "markdown",
   "metadata": {},
   "source": [
    "## (•) Question 5\n",
    "\n",
    "**Stocker dans la variable *one_hot_dates* l'encodage one-hot des dates.**"
   ]
  },
  {
   "cell_type": "code",
   "execution_count": 9,
   "metadata": {},
   "outputs": [
    {
     "name": "stderr",
     "output_type": "stream",
     "text": [
      "/Users/maxime/Documents/Blent_Formations/DataGramxAirBnB/venv/lib/python3.7/site-packages/sklearn/preprocessing/_encoders.py:363: FutureWarning: The handling of integer data will change in version 0.22. Currently, the categories are determined based on the range [0, max(values)], while in the future they will be determined based on the unique values.\n",
      "If you want the future behaviour and silence this warning, you can specify \"categories='auto'\".\n",
      "In case you used a LabelEncoder before this OneHotEncoder to convert the categories to integers, then you can now use the OneHotEncoder directly.\n",
      "  warnings.warn(msg, FutureWarning)\n"
     ]
    },
    {
     "data": {
      "text/plain": [
       "(18981, 19)"
      ]
     },
     "execution_count": 9,
     "metadata": {},
     "output_type": "execute_result"
    }
   ],
   "source": []
  },
  {
   "cell_type": "markdown",
   "metadata": {},
   "source": [
    "## (••) Question 6\n",
    "\n",
    "**Ajouter la matrice de vecteurs one-hot au DataFrame *range_prices_nights* et stocker dans un nouveau DataFrame nommé *dataset*.**"
   ]
  },
  {
   "cell_type": "code",
   "execution_count": 13,
   "metadata": {},
   "outputs": [],
   "source": []
  },
  {
   "cell_type": "code",
   "execution_count": 16,
   "metadata": {},
   "outputs": [
    {
     "data": {
      "text/html": [
       "<div>\n",
       "<style scoped>\n",
       "    .dataframe tbody tr th:only-of-type {\n",
       "        vertical-align: middle;\n",
       "    }\n",
       "\n",
       "    .dataframe tbody tr th {\n",
       "        vertical-align: top;\n",
       "    }\n",
       "\n",
       "    .dataframe thead th {\n",
       "        text-align: right;\n",
       "    }\n",
       "</style>\n",
       "<table border=\"1\" class=\"dataframe\">\n",
       "  <thead>\n",
       "    <tr style=\"text-align: right;\">\n",
       "      <th></th>\n",
       "      <th>listing_id</th>\n",
       "      <th>date</th>\n",
       "      <th>available</th>\n",
       "      <th>local_price</th>\n",
       "      <th>min_nights</th>\n",
       "      <th>date_dict</th>\n",
       "      <th>name</th>\n",
       "      <th>type</th>\n",
       "      <th>city</th>\n",
       "      <th>neighborhood</th>\n",
       "      <th>...</th>\n",
       "      <th>oh_10</th>\n",
       "      <th>oh_11</th>\n",
       "      <th>oh_12</th>\n",
       "      <th>oh_13</th>\n",
       "      <th>oh_14</th>\n",
       "      <th>oh_15</th>\n",
       "      <th>oh_16</th>\n",
       "      <th>oh_17</th>\n",
       "      <th>oh_18</th>\n",
       "      <th>oh_19</th>\n",
       "    </tr>\n",
       "  </thead>\n",
       "  <tbody>\n",
       "    <tr>\n",
       "      <th>0</th>\n",
       "      <td>56093</td>\n",
       "      <td>2018-08-27</td>\n",
       "      <td>0.0</td>\n",
       "      <td>170.0</td>\n",
       "      <td>4.0</td>\n",
       "      <td>0</td>\n",
       "      <td>Beau duplex dans le Marais</td>\n",
       "      <td>entire_home</td>\n",
       "      <td>Paris</td>\n",
       "      <td>3e arrondissement</td>\n",
       "      <td>...</td>\n",
       "      <td>0.0</td>\n",
       "      <td>0.0</td>\n",
       "      <td>0.0</td>\n",
       "      <td>0.0</td>\n",
       "      <td>0.0</td>\n",
       "      <td>0.0</td>\n",
       "      <td>0.0</td>\n",
       "      <td>0.0</td>\n",
       "      <td>0.0</td>\n",
       "      <td>0.0</td>\n",
       "    </tr>\n",
       "    <tr>\n",
       "      <th>1</th>\n",
       "      <td>56093</td>\n",
       "      <td>2018-09-03</td>\n",
       "      <td>0.0</td>\n",
       "      <td>170.0</td>\n",
       "      <td>4.0</td>\n",
       "      <td>1</td>\n",
       "      <td>Beau duplex dans le Marais</td>\n",
       "      <td>entire_home</td>\n",
       "      <td>Paris</td>\n",
       "      <td>3e arrondissement</td>\n",
       "      <td>...</td>\n",
       "      <td>0.0</td>\n",
       "      <td>0.0</td>\n",
       "      <td>0.0</td>\n",
       "      <td>0.0</td>\n",
       "      <td>0.0</td>\n",
       "      <td>0.0</td>\n",
       "      <td>0.0</td>\n",
       "      <td>0.0</td>\n",
       "      <td>0.0</td>\n",
       "      <td>0.0</td>\n",
       "    </tr>\n",
       "    <tr>\n",
       "      <th>2</th>\n",
       "      <td>56093</td>\n",
       "      <td>2018-09-10</td>\n",
       "      <td>0.0</td>\n",
       "      <td>170.0</td>\n",
       "      <td>4.0</td>\n",
       "      <td>2</td>\n",
       "      <td>Beau duplex dans le Marais</td>\n",
       "      <td>entire_home</td>\n",
       "      <td>Paris</td>\n",
       "      <td>3e arrondissement</td>\n",
       "      <td>...</td>\n",
       "      <td>0.0</td>\n",
       "      <td>0.0</td>\n",
       "      <td>0.0</td>\n",
       "      <td>0.0</td>\n",
       "      <td>0.0</td>\n",
       "      <td>0.0</td>\n",
       "      <td>0.0</td>\n",
       "      <td>0.0</td>\n",
       "      <td>0.0</td>\n",
       "      <td>0.0</td>\n",
       "    </tr>\n",
       "    <tr>\n",
       "      <th>3</th>\n",
       "      <td>56093</td>\n",
       "      <td>2018-09-17</td>\n",
       "      <td>0.0</td>\n",
       "      <td>170.0</td>\n",
       "      <td>4.0</td>\n",
       "      <td>3</td>\n",
       "      <td>Beau duplex dans le Marais</td>\n",
       "      <td>entire_home</td>\n",
       "      <td>Paris</td>\n",
       "      <td>3e arrondissement</td>\n",
       "      <td>...</td>\n",
       "      <td>0.0</td>\n",
       "      <td>0.0</td>\n",
       "      <td>0.0</td>\n",
       "      <td>0.0</td>\n",
       "      <td>0.0</td>\n",
       "      <td>0.0</td>\n",
       "      <td>0.0</td>\n",
       "      <td>0.0</td>\n",
       "      <td>0.0</td>\n",
       "      <td>0.0</td>\n",
       "    </tr>\n",
       "    <tr>\n",
       "      <th>4</th>\n",
       "      <td>56093</td>\n",
       "      <td>2018-09-24</td>\n",
       "      <td>0.0</td>\n",
       "      <td>170.0</td>\n",
       "      <td>4.0</td>\n",
       "      <td>4</td>\n",
       "      <td>Beau duplex dans le Marais</td>\n",
       "      <td>entire_home</td>\n",
       "      <td>Paris</td>\n",
       "      <td>3e arrondissement</td>\n",
       "      <td>...</td>\n",
       "      <td>0.0</td>\n",
       "      <td>0.0</td>\n",
       "      <td>0.0</td>\n",
       "      <td>0.0</td>\n",
       "      <td>0.0</td>\n",
       "      <td>0.0</td>\n",
       "      <td>0.0</td>\n",
       "      <td>0.0</td>\n",
       "      <td>0.0</td>\n",
       "      <td>0.0</td>\n",
       "    </tr>\n",
       "  </tbody>\n",
       "</table>\n",
       "<p>5 rows × 42 columns</p>\n",
       "</div>"
      ],
      "text/plain": [
       "   listing_id       date  available  local_price  min_nights  date_dict  \\\n",
       "0       56093 2018-08-27        0.0        170.0         4.0          0   \n",
       "1       56093 2018-09-03        0.0        170.0         4.0          1   \n",
       "2       56093 2018-09-10        0.0        170.0         4.0          2   \n",
       "3       56093 2018-09-17        0.0        170.0         4.0          3   \n",
       "4       56093 2018-09-24        0.0        170.0         4.0          4   \n",
       "\n",
       "                           name         type   city       neighborhood  ...    \\\n",
       "0   Beau duplex dans le Marais   entire_home  Paris  3e arrondissement  ...     \n",
       "1   Beau duplex dans le Marais   entire_home  Paris  3e arrondissement  ...     \n",
       "2   Beau duplex dans le Marais   entire_home  Paris  3e arrondissement  ...     \n",
       "3   Beau duplex dans le Marais   entire_home  Paris  3e arrondissement  ...     \n",
       "4   Beau duplex dans le Marais   entire_home  Paris  3e arrondissement  ...     \n",
       "\n",
       "   oh_10  oh_11  oh_12  oh_13  oh_14  oh_15  oh_16  oh_17  oh_18  oh_19  \n",
       "0    0.0    0.0    0.0    0.0    0.0    0.0    0.0    0.0    0.0    0.0  \n",
       "1    0.0    0.0    0.0    0.0    0.0    0.0    0.0    0.0    0.0    0.0  \n",
       "2    0.0    0.0    0.0    0.0    0.0    0.0    0.0    0.0    0.0    0.0  \n",
       "3    0.0    0.0    0.0    0.0    0.0    0.0    0.0    0.0    0.0    0.0  \n",
       "4    0.0    0.0    0.0    0.0    0.0    0.0    0.0    0.0    0.0    0.0  \n",
       "\n",
       "[5 rows x 42 columns]"
      ]
     },
     "execution_count": 16,
     "metadata": {},
     "output_type": "execute_result"
    }
   ],
   "source": []
  },
  {
   "cell_type": "code",
   "execution_count": 17,
   "metadata": {},
   "outputs": [
    {
     "data": {
      "text/plain": [
       "Index(['listing_id', 'date', 'available', 'local_price', 'min_nights',\n",
       "       'date_dict', 'name', 'type', 'city', 'neighborhood', 'latitude',\n",
       "       'longitude', 'person_capacity', 'beds', 'bedrooms', 'bathrooms',\n",
       "       'is_rebookable', 'is_new_listing', 'is_fully_refundable',\n",
       "       'is_host_highly_rated', 'is_business_travel_ready',\n",
       "       'pricing_weekly_factor', 'pricing_monthly_factor', 'oh_1', 'oh_2',\n",
       "       'oh_3', 'oh_4', 'oh_5', 'oh_6', 'oh_7', 'oh_8', 'oh_9', 'oh_10',\n",
       "       'oh_11', 'oh_12', 'oh_13', 'oh_14', 'oh_15', 'oh_16', 'oh_17', 'oh_18',\n",
       "       'oh_19'],\n",
       "      dtype='object')"
      ]
     },
     "execution_count": 17,
     "metadata": {},
     "output_type": "execute_result"
    }
   ],
   "source": [
    "#le résultat \n",
    "dataset.columns"
   ]
  },
  {
   "cell_type": "markdown",
   "metadata": {},
   "source": [
    "## (••) Question 7\n",
    "\n",
    "**Entrainer un modèle de Gradient Boosting avec les variables suivantes :**\n",
    "\n",
    "- Les coordonnées géographiques\n",
    "- La capacité, le nombre de chambres et de salles de bains\n",
    "- La date encodé sous format one-hot"
   ]
  },
  {
   "cell_type": "code",
   "execution_count": 31,
   "metadata": {},
   "outputs": [],
   "source": [
    "X_train, X_test, Y_train, Y_test = train_test_split(\n",
    "    dataset.iloc[:, [10, 11, 12, 14, 15 ] + [ i for i in range(len(dataset.columns) - 19, len(dataset.columns)) ]],\n",
    "    dataset.loc[:, \"local_price\"],\n",
    "    test_size=0.2)"
   ]
  },
  {
   "cell_type": "code",
   "execution_count": 32,
   "metadata": {},
   "outputs": [
    {
     "data": {
      "text/plain": [
       "XGBRegressor(base_score=0.5, booster='gbtree', colsample_bylevel=1,\n",
       "       colsample_bytree=1, eta=1, gamma=0, learning_rate=0.1,\n",
       "       max_delta_step=0, max_depth=3, min_child_weight=1, missing=None,\n",
       "       n_estimators=200, n_jobs=1, nthread=None, objective='reg:linear',\n",
       "       random_state=0, reg_alpha=0, reg_lambda=1, scale_pos_weight=1,\n",
       "       seed=None, silent=1, subsample=1)"
      ]
     },
     "execution_count": 32,
     "metadata": {},
     "output_type": "execute_result"
    }
   ],
   "source": []
  },
  {
   "cell_type": "markdown",
   "metadata": {},
   "source": [
    "## (•) Question 8\n",
    "\n",
    "**Calculer le score $R^2$ du modèle.**"
   ]
  },
  {
   "cell_type": "code",
   "execution_count": 35,
   "metadata": {},
   "outputs": [
    {
     "name": "stdout",
     "output_type": "stream",
     "text": [
      "Variance score: 0.7597\n"
     ]
    }
   ],
   "source": []
  },
  {
   "cell_type": "markdown",
   "metadata": {},
   "source": [
    "## (•) Question 9\n",
    "\n",
    "**Tuner les hyper-paramètres suivants en utilisant les valeurs de votre choix :**\n",
    "\n",
    "- La profondeur *max_depth*\n",
    "- Le nombre d'arbres *n_estimators*\n",
    "- Le taux d'apprentissage *learning_rate*\n",
    "\n",
    "**Attention**, cela peut prendre jusqu'à plusieurs minutes."
   ]
  },
  {
   "cell_type": "code",
   "execution_count": 36,
   "metadata": {},
   "outputs": [],
   "source": [
    "from sklearn.model_selection import GridSearchCV"
   ]
  },
  {
   "cell_type": "code",
   "execution_count": 38,
   "metadata": {},
   "outputs": [
    {
     "name": "stdout",
     "output_type": "stream",
     "text": [
      "Fitting 3 folds for each of 27 candidates, totalling 81 fits\n"
     ]
    },
    {
     "name": "stderr",
     "output_type": "stream",
     "text": [
      "/Users/maxime/Documents/Blent_Formations/DataGramxAirBnB/venv/lib/python3.7/site-packages/sklearn/model_selection/_split.py:1943: FutureWarning: You should specify a value for 'cv' instead of relying on the default value. The default value will change from 3 to 5 in version 0.22.\n",
      "  warnings.warn(CV_WARNING, FutureWarning)\n",
      "[Parallel(n_jobs=5)]: Using backend LokyBackend with 5 concurrent workers.\n",
      "[Parallel(n_jobs=5)]: Done  22 tasks      | elapsed:   31.5s\n",
      "[Parallel(n_jobs=5)]: Done  81 out of  81 | elapsed:  1.8min finished\n"
     ]
    },
    {
     "data": {
      "text/plain": [
       "GridSearchCV(cv='warn', error_score='raise-deprecating',\n",
       "       estimator=XGBRegressor(base_score=0.5, booster='gbtree', colsample_bylevel=1,\n",
       "       colsample_bytree=1, gamma=0, learning_rate=0.1, max_delta_step=0,\n",
       "       max_depth=3, min_child_weight=1, missing=None, n_estimators=100,\n",
       "       n_jobs=1, nthread=None, objective='reg:linear', random_state=0,\n",
       "       reg_alpha=0, reg_lambda=1, scale_pos_weight=1, seed=None,\n",
       "       silent=True, subsample=1),\n",
       "       fit_params=None, iid='warn', n_jobs=5,\n",
       "       param_grid={'max_depth': [2, 3, 4], 'learning_rate': [0.5, 1.0, 1.5], 'n_estimators': [100, 200, 300]},\n",
       "       pre_dispatch='2*n_jobs', refit=True, return_train_score=True,\n",
       "       scoring='r2', verbose=3)"
      ]
     },
     "execution_count": 38,
     "metadata": {},
     "output_type": "execute_result"
    }
   ],
   "source": []
  },
  {
   "cell_type": "code",
   "execution_count": 42,
   "metadata": {},
   "outputs": [
    {
     "name": "stdout",
     "output_type": "stream",
     "text": [
      "Score : 79.15%\n",
      "Paramètres : {'learning_rate': 0.5, 'max_depth': 2, 'n_estimators': 100}\n",
      "Score : 86.27%\n",
      "Paramètres : {'learning_rate': 0.5, 'max_depth': 2, 'n_estimators': 200}\n",
      "Score : 89.28%\n",
      "Paramètres : {'learning_rate': 0.5, 'max_depth': 2, 'n_estimators': 300}\n",
      "Score : 88.62%\n",
      "Paramètres : {'learning_rate': 0.5, 'max_depth': 3, 'n_estimators': 100}\n",
      "Score : 92.97%\n",
      "Paramètres : {'learning_rate': 0.5, 'max_depth': 3, 'n_estimators': 200}\n",
      "Score : 94.15%\n",
      "Paramètres : {'learning_rate': 0.5, 'max_depth': 3, 'n_estimators': 300}\n",
      "Score : 92.95%\n",
      "Paramètres : {'learning_rate': 0.5, 'max_depth': 4, 'n_estimators': 100}\n",
      "Score : 94.82%\n",
      "Paramètres : {'learning_rate': 0.5, 'max_depth': 4, 'n_estimators': 200}\n",
      "Score : 95.04%\n",
      "Paramètres : {'learning_rate': 0.5, 'max_depth': 4, 'n_estimators': 300}\n",
      "Score : 82.73%\n",
      "Paramètres : {'learning_rate': 1.0, 'max_depth': 2, 'n_estimators': 100}\n",
      "Score : 89.46%\n",
      "Paramètres : {'learning_rate': 1.0, 'max_depth': 2, 'n_estimators': 200}\n",
      "Score : 92.11%\n",
      "Paramètres : {'learning_rate': 1.0, 'max_depth': 2, 'n_estimators': 300}\n",
      "Score : 91.64%\n",
      "Paramètres : {'learning_rate': 1.0, 'max_depth': 3, 'n_estimators': 100}\n",
      "Score : 94.35%\n",
      "Paramètres : {'learning_rate': 1.0, 'max_depth': 3, 'n_estimators': 200}\n",
      "Score : 94.72%\n",
      "Paramètres : {'learning_rate': 1.0, 'max_depth': 3, 'n_estimators': 300}\n",
      "Score : 94.27%\n",
      "Paramètres : {'learning_rate': 1.0, 'max_depth': 4, 'n_estimators': 100}\n",
      "Score : 94.50%\n",
      "Paramètres : {'learning_rate': 1.0, 'max_depth': 4, 'n_estimators': 200}\n",
      "Score : 94.32%\n",
      "Paramètres : {'learning_rate': 1.0, 'max_depth': 4, 'n_estimators': 300}\n",
      "Score : 80.46%\n",
      "Paramètres : {'learning_rate': 1.5, 'max_depth': 2, 'n_estimators': 100}\n",
      "Score : 87.55%\n",
      "Paramètres : {'learning_rate': 1.5, 'max_depth': 2, 'n_estimators': 200}\n",
      "Score : 90.75%\n",
      "Paramètres : {'learning_rate': 1.5, 'max_depth': 2, 'n_estimators': 300}\n",
      "Score : 90.56%\n",
      "Paramètres : {'learning_rate': 1.5, 'max_depth': 3, 'n_estimators': 100}\n",
      "Score : 93.73%\n",
      "Paramètres : {'learning_rate': 1.5, 'max_depth': 3, 'n_estimators': 200}\n",
      "Score : 93.83%\n",
      "Paramètres : {'learning_rate': 1.5, 'max_depth': 3, 'n_estimators': 300}\n",
      "Score : 92.96%\n",
      "Paramètres : {'learning_rate': 1.5, 'max_depth': 4, 'n_estimators': 100}\n",
      "Score : 93.02%\n",
      "Paramètres : {'learning_rate': 1.5, 'max_depth': 4, 'n_estimators': 200}\n",
      "Score : 92.76%\n",
      "Paramètres : {'learning_rate': 1.5, 'max_depth': 4, 'n_estimators': 300}\n"
     ]
    }
   ],
   "source": []
  },
  {
   "cell_type": "markdown",
   "metadata": {},
   "source": [
    "## (••) Question 10\n",
    "\n",
    "**Etudier la stabilité du modèle en déterminant un intervalle de confiance de niveau 95\\% en utilisant les paramètres optimaux déterminés précedemment.**"
   ]
  },
  {
   "cell_type": "code",
   "execution_count": 44,
   "metadata": {},
   "outputs": [
    {
     "data": {
      "text/plain": [
       "XGBRegressor(base_score=0.5, booster='gbtree', colsample_bylevel=1,\n",
       "       colsample_bytree=1, gamma=0, learning_rate=0.5, max_delta_step=0,\n",
       "       max_depth=4, min_child_weight=1, missing=None, n_estimators=300,\n",
       "       n_jobs=1, nthread=None, objective='reg:linear', random_state=0,\n",
       "       reg_alpha=0, reg_lambda=1, scale_pos_weight=1, seed=None,\n",
       "       silent=True, subsample=1)"
      ]
     },
     "execution_count": 44,
     "metadata": {},
     "output_type": "execute_result"
    }
   ],
   "source": []
  },
  {
   "cell_type": "code",
   "execution_count": 45,
   "metadata": {},
   "outputs": [],
   "source": []
  },
  {
   "cell_type": "code",
   "execution_count": 46,
   "metadata": {},
   "outputs": [
    {
     "name": "stdout",
     "output_type": "stream",
     "text": [
      "Intervalle de confiance de niveau 95% : 94.7% ± 0.016%\n"
     ]
    }
   ],
   "source": []
  },
  {
   "cell_type": "markdown",
   "metadata": {},
   "source": [
    "Comparer avec les résultats obtenus lorsque l'on avait réalisé l'encodage de la date uniquement par dictionnaire."
   ]
  },
  {
   "cell_type": "code",
   "execution_count": null,
   "metadata": {},
   "outputs": [],
   "source": []
  }
 ],
 "metadata": {
  "kernelspec": {
   "display_name": "Python 3",
   "language": "python",
   "name": "python3"
  },
  "language_info": {
   "codemirror_mode": {
    "name": "ipython",
    "version": 3
   },
   "file_extension": ".py",
   "mimetype": "text/x-python",
   "name": "python",
   "nbconvert_exporter": "python",
   "pygments_lexer": "ipython3",
   "version": "3.6.2"
  }
 },
 "nbformat": 4,
 "nbformat_minor": 2
}
