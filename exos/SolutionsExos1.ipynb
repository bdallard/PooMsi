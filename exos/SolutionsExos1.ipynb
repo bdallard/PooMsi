{
 "cells": [
  {
   "cell_type": "code",
   "execution_count": 1,
   "metadata": {},
   "outputs": [
    {
     "name": "stdout",
     "output_type": "stream",
     "text": [
      "P(2.00 , 3.00)\n",
      "P(1.00 , -5.00 , 6.00)\n"
     ]
    }
   ],
   "source": [
    "#Exo : surcharge\n",
    "class Point:\n",
    "    def __init__(self,x,y,z=None):#par défault on donne la valeur None à l'attribut z\n",
    "         \n",
    "        self.x=x\n",
    "        self.y=y\n",
    "        self.z=z\n",
    "     \n",
    "    def ToString(self):\n",
    "        \"\"\"\n",
    "        L'affichage du point\n",
    "        \"\"\"\n",
    "        if self.z==None:print(\"P(%.2f , %.2f)\"%(self.x,self.y)) # si z n'est pas défini\n",
    "        else:print(\"P(%.2f , %.2f , %.2f)\"%(self.x,self.y,self.z)) # si z est défini\n",
    "\n",
    "p1 = Point(2,3)\n",
    "p1.ToString()\n",
    "p2 = Point(1,-5,6)\n",
    "p2.ToString()"
   ]
  },
  {
   "cell_type": "code",
   "execution_count": 2,
   "metadata": {},
   "outputs": [
    {
     "name": "stdout",
     "output_type": "stream",
     "text": [
      "Le solde du compte bancaire de Duchmol est de 950.00 euros.\n",
      "Le solde du compte bancaire de Dupont est de 1025.00 euros.\n"
     ]
    }
   ],
   "source": [
    "#Exo : Compte Bancaire\n",
    "class CompteBancaire:\n",
    "     \n",
    "    def __init__(self,nom='Dupont',solde=1000):\n",
    "        \"\"\" création du constructeur de la classe avec les valeurs par defaut 'Dupont' et 1000 \"\"\"\n",
    "         \n",
    "        self.nom=nom \n",
    "        self.solde=solde\n",
    "         \n",
    "    def depot(self,somme):\n",
    "        \"\"\" ajout d'une somme à l'attribut solde \"\"\"\n",
    "         \n",
    "        self.solde+=somme\n",
    "         \n",
    "    def retrait(self,somme):\n",
    "        \"\"\" retrait d'une somme à l'attribut solde \"\"\"\n",
    "         \n",
    "        self.solde-=somme\n",
    "         \n",
    "    def affiche(self):\n",
    "        \"\"\" L'affichage des informations d'un compte\"\"\"\n",
    "         \n",
    "        print(\"Le solde du compte bancaire de %s est de %.2f euros.\"%(self.nom,self.solde))\n",
    " \n",
    "############# Main programme #########\n",
    "compte1 = CompteBancaire('Duchmol', 800) # instanciation du compte1 de nom='Duchmol' et de solde=800\n",
    " \n",
    "compte1.depot(350) \n",
    "compte1.retrait(200)\n",
    "compte1.affiche()\n",
    " \n",
    "compte2 = CompteBancaire() # instanciation du compte1 de nom='Dupont' et de solde=1000\n",
    "compte2.depot(25)\n",
    "compte2.affiche()"
   ]
  },
  {
   "cell_type": "code",
   "execution_count": 7,
   "metadata": {},
   "outputs": [
    {
     "name": "stdout",
     "output_type": "stream",
     "text": [
      "Nom:Ilyass \n",
      "Prénom: Math \n",
      "Date de naissance: 01 / 07 / 1982\n",
      "***************************************\n",
      "Nom:Ilyass \n",
      "Prénom: Math \n",
      "Date de naissance: 01 / 07 / 1988\n",
      "Salaire: 7865.55\n",
      "Service: Ressource humaine\n"
     ]
    }
   ],
   "source": [
    "#Exo : héritage \n",
    "class DateNaissance:\n",
    "    \"Classe DateNaissance\"\n",
    "    def __init__(self,jour,mois,annee):\n",
    "        self.jour=jour\n",
    "        self.mois=mois\n",
    "        self.annee=annee\n",
    "         \n",
    "    def ToString(self):\n",
    "        \"\"\"Méthode qui convertit la date de naissance en chaine de caractère\"\"\"\n",
    "        return \"%02d / %02d / %d\" %(self.jour,self.mois,self.annee)\n",
    " \n",
    "class personne: #la classe mère\n",
    "    def __init__(self,nom,prenom,date_naissance):\n",
    "        self.nom=nom\n",
    "        self.prenom=prenom\n",
    "        self.date_naissance=date_naissance\n",
    "         \n",
    "    def afficher(self):\n",
    "        print(\"Nom:%s \\nPrénom: %s \\nDate de naissance: %s\"%(self.nom,self.prenom,self.date_naissance.ToString()))\n",
    " \n",
    "class employe(personne):#employe est une classe fille qui hérite de la classe mère personne\n",
    " \n",
    "    def __init__(self,nom,prenom,date_naissance,salaire):#redéfinir le constructeur \"Polymorphisme d'héritage\"\n",
    "        personne.__init__(self,nom,prenom,date_naissance)#Instanciation de la classe mère (appeler le constructeur de la classe mère dans le constructeur de la classe fille)\n",
    "        self.salaire=salaire\n",
    "    def afficher(self):#redéfinir la méthode polymorphe Afficher\n",
    "        personne.afficher(self)\n",
    "        print(\"Salaire: %.02f\"%self.salaire)\n",
    " \n",
    "class chef(employe):#chef est une classe fille de la classe mère employe qui est une classe fille de la classe personne\n",
    "    def __init__(self,nom,prenom,date_naissance,salaire,service):\n",
    "        employe.__init__(self,nom,prenom,date_naissance,salaire)\n",
    "        self.service=service\n",
    "    def afficher(self):\n",
    "        employe.afficher(self)\n",
    "        print(\"Service: %s\"%self.service)\n",
    "\n",
    "p = personne('Ilyass','Math',DateNaissance(1,7,1982))\n",
    "p.afficher()\n",
    "print('***************************************')\n",
    "c =chef('Ilyass','Math',DateNaissance(1,7,1988),7865.548,'Ressource humaine')\n",
    "c.afficher()"
   ]
  },
  {
   "cell_type": "code",
   "execution_count": null,
   "metadata": {},
   "outputs": [],
   "source": []
  }
 ],
 "metadata": {
  "kernelspec": {
   "display_name": "Python 3",
   "language": "python",
   "name": "python3"
  },
  "language_info": {
   "codemirror_mode": {
    "name": "ipython",
    "version": 3
   },
   "file_extension": ".py",
   "mimetype": "text/x-python",
   "name": "python",
   "nbconvert_exporter": "python",
   "pygments_lexer": "ipython3",
   "version": "3.6.2"
  }
 },
 "nbformat": 4,
 "nbformat_minor": 2
}
