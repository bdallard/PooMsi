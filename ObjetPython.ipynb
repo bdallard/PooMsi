{
 "cells": [
  {
   "cell_type": "markdown",
   "metadata": {},
   "source": [
    "# Introduction\n",
    "\n",
    "Comme vu dans le cours POO & MSI, il y a beaucoup de manières de programmer. Des styles. Des formes que l’on donne au code. On leur donne des noms: programmation procédurale, fonctionnelle, orientée flux, par contrat, etc... C’est ce qu’on appelle des paradigmes, des points de vue sur comment on doit faire le boulot.\n",
    "\n",
    "En vérité, le point de vue n’est pas déterminant. Vous pouvez faire le même boulot en utilisant n’importe lequel. L’important c’est de coder.\n",
    "\n",
    "Mais chaque point de vue possède des caractéristiques et des outils différents.\n",
    "\n",
    "Ce que vous allez voir est ce qu’on appelle la programmation orientée objet, ou POO. C’est un simple point de vue, un outil, mais il est très utilisé en Python, Ruby ou Java.\n",
    "\n",
    "Quand vous avez appris la programmation, on vous a montré comment stocker des données dans des structures de données:\n",
    "\n",
    "- les listes\n",
    "- les chaînes\n",
    "- les entiers\n",
    "- les dictionnaires\n",
    "- et les autres \n",
    "\n",
    "Et on vous a montré comment créer un comportement pour votre programme en utilisant des mots clés, puis plus tard en utilisant des fonctions pour regrouper ces mots clés.\n",
    "\n",
    "En Python, à ce stade, nous allons supposer que vous connaissez les bases du langage ainsi que celles des structures de données. Si ce n'est pas le cas je vous renvoie vers le cours *Introduction au python* à la racine. \n",
    "\n",
    "\n"
   ]
  },
  {
   "cell_type": "markdown",
   "metadata": {},
   "source": [
    "## Rappels sur la POO\n",
    "\n",
    "La programmation orienté objet, c’est un style de programmation qui permet de regrouper au même endroit le comportement (les fonctions) et les données (les structures) qui sont faites pour aller ensemble.\n",
    "\n",
    "C’est tout. C’est finalement une simple question d’organisation du programme.\n",
    "\n",
    "### Les objets \n",
    "\n",
    "Un objet c'est un… truc. Un machin. Un bidule.\n",
    "\n",
    "Ça peut vous paraître une définition floue, mais c’est parce que c’est exactement ce que peut être un objet: n’importe quoi que vous décidiez de coder. L’objet est un moyen de dire à la machine : “ce *< entrez_ici_un_nom_de_truc > *possède telle donnée, et fait telle chose avec”.\n",
    "\n",
    "Vous le savez, en python absolument tout est un objet ! Une chaîne, un entier, un dictionnaire, une liste, une fonction… Vous avez donc manipulé des objets sans le savoir. Maintenant vous allez créer les vôtres.\n",
    "\n",
    "Créer des objets se fait en deux étapes: décrire à quoi ressemble votre objet, et demander à l’ordinateur d’utiliser cette description pour le fabriquer.\n",
    "\n",
    "Voici un petit exemple simple. "
   ]
  },
  {
   "cell_type": "code",
   "execution_count": 1,
   "metadata": {},
   "outputs": [],
   "source": [
    "class DescriptionDeLObject : \n",
    "    pass"
   ]
  },
  {
   "cell_type": "code",
   "execution_count": 3,
   "metadata": {},
   "outputs": [
    {
     "name": "stdout",
     "output_type": "stream",
     "text": [
      "<__main__.DescriptionDeLObject object at 0x104b71828>\n"
     ]
    }
   ],
   "source": [
    "#on déclare cet objet afin de l'utiliser\n",
    "MonObjet = DescriptionDeLObject() \n",
    "#on l'affiche \n",
    "print(MonObjet)"
   ]
  },
  {
   "cell_type": "markdown",
   "metadata": {},
   "source": [
    "C'est ce qu’on appelle une classe. **La classe est le moyen, en Python, de décrire à quoi va ressembler un objet.**\n",
    "\n",
    "\n",
    "```DescriptionDeLObject()``` \n",
    "**(notez les parenthèses)**, est la syntaxe Python pour dire “fabrique un objet à partir de ce plan”. Le nouvel objet va être retourné, et mis dans la variable *MonObjet* . "
   ]
  },
  {
   "cell_type": "markdown",
   "metadata": {},
   "source": [
    "### Les méthodes \n",
    "\n",
    "Les méthodes sont des fonctions déclarées à l’intérieur de la classe. Méthode est juste un nom pour dire “cette fonction est dans une classe”. On va maintenant créer une méthode très simple. "
   ]
  },
  {
   "cell_type": "code",
   "execution_count": 8,
   "metadata": {},
   "outputs": [],
   "source": [
    "class DescriptionDeLObject :\n",
    "    #une méthode est une fonction qu'on définie tel que : \n",
    "    def la_methode(objet_en_cours):\n",
    "        print(\"Ceci est une méthode sur un objet : 'tada' \")"
   ]
  },
  {
   "cell_type": "code",
   "execution_count": 9,
   "metadata": {},
   "outputs": [
    {
     "name": "stdout",
     "output_type": "stream",
     "text": [
      "Ceci est une méthode sur un objet : 'tada' \n"
     ]
    }
   ],
   "source": [
    "#on redéfinit la variable MonObjet \n",
    "MonObjet = DescriptionDeLObject() \n",
    "#on peut maintenant appeler la méthode de notre objet \n",
    "MonObjet.la_methode()"
   ]
  },
  {
   "cell_type": "markdown",
   "metadata": {},
   "source": [
    "Vous devez vous demander *“quel est ce objet_en_cours”* qui est défini comme paramètre de la méthode ?\n",
    "\n",
    "C’est une spécificité de Python : quand vous appelez une méthode depuis un objet, l’objet est automatiquement passé en premier paramètre par Python. C’est automatique, et invisible.\n",
    "\n",
    "C’est très facile à comprendre en faisant une méthode qui retourne ```objet_en_cours``` pour voir ce qu’il y a dedans :"
   ]
  },
  {
   "cell_type": "code",
   "execution_count": 10,
   "metadata": {},
   "outputs": [],
   "source": [
    "class DescriptionDeLObjectBis : \n",
    "    def une_methode(objet_en_cours):\n",
    "        return objet_en_cours"
   ]
  },
  {
   "cell_type": "code",
   "execution_count": 11,
   "metadata": {},
   "outputs": [
    {
     "data": {
      "text/plain": [
       "<__main__.DescriptionDeLObjectBis at 0x104c6bac8>"
      ]
     },
     "execution_count": 11,
     "metadata": {},
     "output_type": "execute_result"
    }
   ],
   "source": [
    "ObjetBis = DescriptionDeLObjectBis() \n",
    "ObjetBis.une_methode() "
   ]
  },
  {
   "cell_type": "markdown",
   "metadata": {},
   "source": [
    "### Les conventions \n",
    "\n",
    "En Python, peu de choses sont forcées. La plupart des choses sont des conventions. Mais ce sont des conventions fortes, les gens y tiennent.\n",
    "\n",
    "Parmi ces conventions, il y a les conventions de nommage, à savoir:\n",
    "- on nomme les classes sans espace, avec des majuscules : NomDUneClasse\n",
    "- on nomme le reste en minuscule avec des underscores : nom_de_methode, nom_d_attribut, etc\n",
    "\n",
    "La convention la plus surprenante est celle du premier paramètre des méthodes qui contient *l’objet en cours*. Son nom n’est pas forcé, contrairement aux autres langages (comme this en Java par exemple), en fait c’est un paramètre tout à faire ordinaire. Néanmoins, la (très très forte) convention est de l’appeler ```self``` "
   ]
  },
  {
   "cell_type": "code",
   "execution_count": 14,
   "metadata": {},
   "outputs": [
    {
     "name": "stdout",
     "output_type": "stream",
     "text": [
      "un truc\n"
     ]
    }
   ],
   "source": [
    "class UneClasse : \n",
    "    def methode(self): \n",
    "        print('un truc')\n",
    "        \n",
    "ex = UneClasse()\n",
    "ex.methode() "
   ]
  },
  {
   "cell_type": "markdown",
   "metadata": {},
   "source": [
    "Enfin, les concepteurs de Python ont ajouté une convention supplémentaire : les méthodes appelées automatiquement dites méthodes spéciales sont appelées ```__nom_de_methode__``` (avec deux underscores de chaque côté)."
   ]
  },
  {
   "cell_type": "markdown",
   "metadata": {},
   "source": [
    "### L'initialisation des objets \n",
    "\n",
    "On souhaite généralement donner un état de départ à tout nouvel objet créé. Par exemple, si vous travaillez sur un jeu vidéo de course de voitures, vous voudrez peut-être créer un objet voiture avec du carburant et une couleur de peinture.\n",
    "\n",
    "Il serait contre productif de devoir les spécifier à chaque fois. Pour automatiser le travail, Python met à disposition des méthodes appelées automatiquement quand une condition est remplie. Ce sont **les fameuses méthodes spéciales nommées __methode__**.\n",
    "\n",
    "Dans notre cas, on veut que notre objet ait un état de départ, donc on va utiliser la méthode qui est appelée automatiquement après la création de l’objet. C’est la méthode ```__init__```."
   ]
  },
  {
   "cell_type": "code",
   "execution_count": 18,
   "metadata": {},
   "outputs": [
    {
     "name": "stdout",
     "output_type": "stream",
     "text": [
      "L'objet à bien été crée !\n",
      "La méthode est appelé automatiquement à la déclaration de l'objet\n"
     ]
    }
   ],
   "source": [
    "class UneAutreClass : \n",
    "    def __init__(self) :\n",
    "        print(\"L'objet à bien été crée !\")\n",
    "        print(\"La méthode est appelé automatiquement à la déclaration de l'objet\")\n",
    "\n",
    "x = UneAutreClass()"
   ]
  },
  {
   "cell_type": "markdown",
   "metadata": {},
   "source": [
    "## Exercices\n",
    "\n",
    "\n",
    "### Le compte bancaire\n",
    "\n",
    "Écrire un programme python qui permet de définir une classe CompteBancaire(), qui permette d’instancier des objets tels que compte1, compte2, etc. Le constructeur de cette classe initialisera deux attributs d’instance nom et solde, avec les valeurs par défaut ’Dupont’ et 1000.\n",
    "\n",
    "Trois autres méthodes seront définies :\n",
    "\n",
    "- depot(somme) permettra d’ajouter une certaine somme au solde ;\n",
    "- retrait(somme) permettra de retirer une certaine somme du solde ;\n",
    "- affiche() permettra d’afficher le nom du titulaire et le solde de son compte.\n",
    "\n",
    "\n",
    "Exemples d’exécution:\n",
    "```\n",
    ">>> compte1 = CompteBancaire(‘Duchmol’, 800)\n",
    ">>> compte1.depot(350)\n",
    ">>> compte1.retrait(200)\n",
    ">>> compte1.affiche()\n",
    "Le solde du compte bancaire de Duchmol est de 950 euros.\n",
    ">>> compte2 = CompteBancaire()\n",
    ">>> compte2.depot(25)\n",
    ">>> compte2.affiche()\n",
    "Le solde du compte bancaire de Dupont est de 1025 euros.\n",
    "\n",
    "```\n",
    "\n",
    "\n",
    "### La surcharge d'opérateur \n",
    "\n",
    "Définir une classe Point avec un constructeur, un point est définit soit par deux coordonnées x et y, s’il s’agit d’une représentation d’un point au plan ou par trois coordonnées x, y et z, s’il s’agit d’une représentation d’un point en espace.\n",
    "\n",
    "La classe Point doit contenir une méthode ToString qui affiche le point.\n",
    "\n",
    "Exemple d’exécution:\n",
    "```\n",
    ">>>P1=Point(2,3)\n",
    ">>>P1.ToString()\n",
    "P(2.00 , 3.00)\n",
    ">>>P2=Point(1,-5,6)\n",
    ">>>P2.ToString()\n",
    "P(1.00 , -5.00 , 6.00)\n",
    "```\n"
   ]
  },
  {
   "cell_type": "code",
   "execution_count": 21,
   "metadata": {},
   "outputs": [
    {
     "name": "stdout",
     "output_type": "stream",
     "text": [
      "P(2.00 , 3.00)\n",
      "P(1.00 , -5.00 , 6.00)\n"
     ]
    }
   ],
   "source": [
    "class Point:\n",
    "    def __init__(self,x,y,z=None):#par défault on donne la valeur None à l'attribut z\n",
    "         \n",
    "        self.x=x\n",
    "        self.y=y\n",
    "        self.z=z\n",
    "     \n",
    "    def ToString(self):\n",
    "        \"\"\"\n",
    "        L'affichage du point\n",
    "        \"\"\"\n",
    "        if self.z==None:print(\"P(%.2f , %.2f)\"%(self.x,self.y)) # si z n'est pas défini\n",
    "        else:print(\"P(%.2f , %.2f , %.2f)\"%(self.x,self.y,self.z)) # si z est défini\n",
    "\n",
    "p1 = Point(2,3)\n",
    "p1.ToString()\n",
    "p2 = Point(1,-5,6)\n",
    "p2.ToString()"
   ]
  },
  {
   "cell_type": "code",
   "execution_count": 22,
   "metadata": {},
   "outputs": [
    {
     "name": "stdout",
     "output_type": "stream",
     "text": [
      "Le solde du compte bancaire de Duchmol est de 950.00 euros.\n",
      "Le solde du compte bancaire de Dupont est de 1025.00 euros.\n"
     ]
    }
   ],
   "source": [
    "class CompteBancaire:\n",
    "     \n",
    "    def __init__(self,nom='Dupont',solde=1000):\n",
    "        \"\"\" création du constructeur de la classe avec les valeurs par defaut 'Dupont' et 1000 \"\"\"\n",
    "         \n",
    "        self.nom=nom \n",
    "        self.solde=solde\n",
    "         \n",
    "    def depot(self,somme):\n",
    "        \"\"\" ajout d'une somme à l'attribut solde \"\"\"\n",
    "         \n",
    "        self.solde+=somme\n",
    "         \n",
    "    def retrait(self,somme):\n",
    "        \"\"\" retrait d'une somme à l'attribut solde \"\"\"\n",
    "         \n",
    "        self.solde-=somme\n",
    "         \n",
    "    def affiche(self):\n",
    "        \"\"\" L'affichage des informations d'un compte\"\"\"\n",
    "         \n",
    "        print(\"Le solde du compte bancaire de %s est de %.2f euros.\"%(self.nom,self.solde))\n",
    " \n",
    "############# Main programme #########\n",
    "compte1 = CompteBancaire('Duchmol', 800) # instanciation du compte1 de nom='Duchmol' et de solde=800\n",
    " \n",
    "compte1.depot(350) \n",
    "compte1.retrait(200)\n",
    "compte1.affiche()\n",
    " \n",
    "compte2 = CompteBancaire() # instanciation du compte1 de nom='Dupont' et de solde=1000\n",
    "compte2.depot(25)\n",
    "compte2.affiche()"
   ]
  },
  {
   "cell_type": "code",
   "execution_count": null,
   "metadata": {},
   "outputs": [],
   "source": []
  }
 ],
 "metadata": {
  "kernelspec": {
   "display_name": "Python 3",
   "language": "python",
   "name": "python3"
  },
  "language_info": {
   "codemirror_mode": {
    "name": "ipython",
    "version": 3
   },
   "file_extension": ".py",
   "mimetype": "text/x-python",
   "name": "python",
   "nbconvert_exporter": "python",
   "pygments_lexer": "ipython3",
   "version": "3.6.2"
  }
 },
 "nbformat": 4,
 "nbformat_minor": 2
}
