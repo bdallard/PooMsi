{
 "cells": [
  {
   "cell_type": "markdown",
   "metadata": {},
   "source": [
    "# Mini Projet SQL \n",
    "\n",
    "Comme énoncé en classe, le cours POO & MSI 2019 fera l’objet de **deux mini projets** dont un en groupe et un autre individuel. Ce premier mini projet porte sur le langage SQL, il est là pour vous familiariser et vous faire pratiquer le langage.  \n",
    "\n",
    "<img src=\"https://d3tvpxjako9ywy.cloudfront.net/blog/content/uploads/2017/09/Implementation-Outsourcing-Project-Manager.jpg?av=91455950a8726491e14009682e9bcee3\"> \n",
    "\n",
    "## Sujets \n",
    "Le sujet de ce projet est de **modéliser une base de donnée pour un organisme (de votre choix) qui permettrait la bonne gestion de celui ci.** \n",
    "Des sujets types seront abordés en cours, dans ce notebook nous allons prendre pour exemple un logiciel de gestion de chaînes hôtelières, nous allons donc voir comment modéliser notre BDD. \n",
    "\n",
    "Il sera donc attendu de vous les éléments suivants : \n",
    "\n",
    "### Une liste de question \n",
    "Afin d’avoir une idée plus concrète du modèle attendu, vous devez pouvoir répondre, à partir de votre médélisation de base de données, à différentes questions dont voici quelques exemples : \n",
    "\n",
    "- Quelle est la liste des clients ayant choisi un forfait all inclusive pour la période du 10 au 17 mars \n",
    "- Combien de factures ont été réglées le 22 avril ?\n",
    "\n",
    "**Votre liste de questions doit comporter au minimum 7 questions** dont les réponses seront apporté via des instructions SQL. \n",
    "\n",
    "### La présentation du modèle Entités Associations \n",
    "La modélisation est une étape cruciale pour aboutir à la conception de votre base de données. Une description graphique de celle-ci est donc essentielle pour visualiser la structure des informations de votre base. \n",
    "#### Description des entités \n",
    "Toutes les entités doivent être décrite à l'aide d'un paragraphe en expliquant : son rôle dans la modèle, pourquoi l'avoir choisi ainsi que sa clé primaire. \n",
    "#### Description des relations \n",
    "Toutes les relations doivent être décrite également en expliquant pourquoi vous avez choisi cette ralation ainsi que cette cardinalité. \n",
    "#### Dénormalisation du modèle relationnel \n",
    "Pour chaque entité nous allons donc créer une relation portant le même nom de l'entité (voici un exemple avec l'entité chambre dans notre exemple de gestion de chaine hôtelière) \n",
    "```\n",
    "Chambre (*idChambre*, numChambre, typeChambre, vue)\n",
    "```\n",
    "On regarde les entités A qui possèdent une association 1,1 avec une autre entité B et qui vont donc récupérer la clé primaire de l'entité B en tant qu'attributs. Toujours dans notre exemple de gestion de chaine hôtelière, il existe une association *appartient* entre les entités *Chambre* et *Hôtel* :\n",
    "```\n",
    "Chambre (*idChambre*, num- Chambre, typeChambre, vue, 'numSociété')\n",
    "```\n",
    "\n",
    "## Data \n",
    "Plutôt que taper les dataset à la main je vous conseil vivement des [les générer](https://www.generatedata.com/).\n",
    "\n",
    "\n",
    "## Team \n",
    "Le projet peut être effectué en groupe : maximum 3 personnes \n",
    "\n",
    "\n",
    "## Rapport \n",
    "Le projet sera déposé sur le slack en **format zip** avec comme titre *Nom.zip* dans le cas ou vous êtes seul ou bien *Nom1Nom2Nom3.zip* si vous ête en grouppe de 3. Il fera l’objet de la remise d’un rapport PDF (de préférence en [latex](https://www.latex-project.org/)) ainsi que du code source et d’un fichier explicatif type README. Un template latex est à votre disposition `/cdc/main.tex` plus un export de table en format txt. \n",
    "\n",
    "\n",
    "## Deadline\n",
    "Le projet est à rendre pour le 06/03/2019 à 18h au plus tard. \n",
    "\n",
    "Good luck guys (: "
   ]
  },
  {
   "cell_type": "code",
   "execution_count": null,
   "metadata": {},
   "outputs": [],
   "source": []
  }
 ],
 "metadata": {
  "kernelspec": {
   "display_name": "Python 3",
   "language": "python",
   "name": "python3"
  },
  "language_info": {
   "codemirror_mode": {
    "name": "ipython",
    "version": 3
   },
   "file_extension": ".py",
   "mimetype": "text/x-python",
   "name": "python",
   "nbconvert_exporter": "python",
   "pygments_lexer": "ipython3",
   "version": "3.6.2"
  }
 },
 "nbformat": 4,
 "nbformat_minor": 2
}
