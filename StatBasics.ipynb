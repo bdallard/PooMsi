{
 "cells": [
  {
   "cell_type": "markdown",
   "metadata": {},
   "source": [
    "# Statistique et vocabulaire en Data Science \n",
    "\n",
    "\n",
    "## Introduction \n",
    "La statistique est une branche des mathématiques qui consiste à étudier des phénomènes par la collecte de données, leur traitement, leur analyse, l'interprétation des résultats et leur présentation afin de rendre les données compréhensibles par tous. C'est à la fois une science, une méthode et un ensemble de techniques.\n",
    "\n",
    "Elle possède une composante théorique ainsi qu'une composante appliquée. La composante théorique s'appuie sur la théorie des probabilités et forme avec cette dernière, les sciences de l'aléatoire. La statistique appliquée est utilisée dans presque tous les domaines de l'activité humaine : ingénierie, management, économie, biologie, informatique, etc. \n",
    "\n",
    "**« Parmi les thèmes à propos desquels les statisticiens ne sont pas d'accord, se trouve la définition de leur science.»**\n",
    ", *Maurice Kendall* \n",
    "\n"
   ]
  },
  {
   "cell_type": "markdown",
   "metadata": {},
   "source": [
    "## Vocabulaire \n",
    "\n",
    "Avant de se lancer directement dans l’exploitation des résultats, nous devons fixer quelques mots de vocabulaire. En effet, nous allons avoir beaucoup d’informations et plusieurs types de variables. Il est donc nécessaire de bien formaliser tout ceci au début.\n",
    "\n",
    "Ensemble des techniques du statisticien pour décrire, numériquement, les populations.\n",
    "\n",
    "#### La population et les individus  \n",
    "La population est l’ensemble des individus (ou unités statistiques) auxquels on décide de sintériser. Sa taille, habituellement désignée par N, est grande, ou même infinie. Le choix de la population étudiée dépend du problème qui est à l’origine de la démarche statistique, et de la façon dont on décide de le traiter.\n",
    "\n",
    "#### Univers des possibles  \n",
    "L’univers des possibles est un ensemble d’événements futurs, possibles, mais dont la réalisation ne peut pas être prédite, associés à une action appelée épreuve. L’épreuve est aléatoire quand la vraisemblance de la réalisation de chacun des événements futurs possibles associés peut être exprimée par un nombre appelé probabilité. \n",
    "Cette épreuve doit alors nécessairement pouvoir être répétée à l’identique. Alors, quand le nombre de répétitions à l’identique tend vers l’infini, la fréquence de réalisation d’un événement tend vers sa probabilité.\n",
    "On ne peut donc jamais mesurer une probabilité, seulement la calculer, ou l’estimer."
   ]
  },
  {
   "cell_type": "markdown",
   "metadata": {},
   "source": [
    "#### Fréquence  \n",
    "Rapport d’un effectif particulier d’individus à la taille de la population. (Excel confond parfois fréquence et effectif).\n",
    "\n",
    "#### Statistique (ou paramètre statistique)  \n",
    "Tout nombre, calculé à propos d’une population, et qui contribue à décrire un aspect de cette population, est une statistique. Fréquences, médianes, quartiles, déciles, moyennes, variances, etc. sont des statistiques.\n",
    "\n",
    "#### Les variables \n",
    "Une variable est une information dont on recueille (ou observe ou mesure) la valeur sur chaque individu. On parle de variable parce que la valeur de l’information n’est pas la même d’un individu à l’autre. C’est à partir des valeurs observées que le statisticien construit ses classements d’individus. Il existe deux types de variables, les unes à valeurs numériques, et les autres à valeurs ordinales.\n",
    "- Les variables **quantitatives**, qui sont des variables à valeurs numériques, pour lesquelles les opérations arithmétiques ont un sens. Par exemple, un âge, une distance, un volume, etc.\n",
    "- Les variables **qualitatives**, où les valeurs possibles sont codées par des modalités (ou catégories). Par exemple, la couleur des yeux, le département, ou tout autre codage où les opérations arithmétiques ne sont pas correctement définies.\n",
    "\n",
    "#### Médiane, quartiles,déciles, centiles (Seulement pour une variable ordinale ou quantitative)\n",
    "Ce sont les valeurs de la variable qui correspondent respectivement à 50%, 25% 50% et 75%, 10% à 90%, 1% à 99% de l’effectif des individus rangés par valeurs croissantes.\n",
    "\n",
    "#### Variance, et sa racine carrée, l’écart-type \n",
    "Seulement pour une variable quantitative. Indicateurs de la dispersion des valeurs des individus autour de la moyenne. La variance est la moyenne des carrés des écarts à la moyenne. L’écart-type est sa racine carrée. Ce sont des statistiques de dispersion."
   ]
  },
  {
   "cell_type": "markdown",
   "metadata": {},
   "source": [
    "$${\\sigma(X_i)}=\\frac1n\\sum_{i=1}^n(x_i-m)^2$$"
   ]
  },
  {
   "cell_type": "markdown",
   "metadata": {},
   "source": [
    "#### Loi de distribution de probabilités (d’une variable aléatoire uniquement) \n",
    "Cas particulier ou les probabilités sont calculées par une fonction mathématique des valeurs (exemples de la loi binomiale et de la loi de Gauss).\n",
    "\n",
    "#### Corrélation \n",
    "Étudier la corrélation entre deux (X et Y) ou plusieurs variables aléatoires ou statistiques numériques, c’est étudier l'intensité de la liaison qui peut exister entre ces variables.\n",
    "Le type le plus simple de liaison est la relation affine. Dans le cas de deux variables numériques, elle se calcule à travers une régression linéaire. "
   ]
  },
  {
   "cell_type": "markdown",
   "metadata": {},
   "source": [
    "$$cor(X_i, X_j) = \\frac{cov(X_i, Y_i)}{\\sigma(X_i)\\sigma(X_j)}$$"
   ]
  },
  {
   "cell_type": "markdown",
   "metadata": {},
   "source": [
    "#### Espérance mathématique\n",
    "En théorie des probabilités, l'espérance mathématique d'une variable aléatoire réelle est, intuitivement, la valeur que l'on s'attend à trouver, en moyenne, si l'on répète un grand nombre de fois la même expérience aléatoire. Elle se note pour une variable X : $$\\mathbb{E(X)}$$"
   ]
  },
  {
   "cell_type": "markdown",
   "metadata": {},
   "source": [
    "#### Moyenne Mobile \n",
    "La moyenne mobile, ou moyenne glissante, est un type de moyenne statistique utilisée pour analyser des séries ordonnées de données, le plus souvent des séries temporelles, en supprimant les fluctuations transitoires de façon à en souligner les tendances à plus long terme. Cette moyenne est dite mobile parce qu'elle est recalculée de façon continue, en utilisant à chaque calcul un sous-ensemble d'éléments dans lequel un nouvel élément remplace le plus ancien ou s'ajoute au sous-ensemble. Ce type de moyenne est utilisé généralement comme méthode de lissage de valeurs, en particulier dans le domaine financier pour l'analyse technique de cours boursiers.\n",
    "\n",
    "Une formule simple permettant de calculer une moyenne mobile d'observations $(X)_n$ est : \n",
    "$$\\bar{x}_n = \\frac{1}{\\mathrm{N}} \\ \\displaystyle{\\sum_{k=0}^{N-1} \\; {x_{n - k}}} \\text{, ou bien } \\bar{x}_n = \\bar{x}_{n-1} + \\frac{ x_n - x_{n - \\mathrm{N}} }{\\mathrm{N}}$$\n",
    "\n",
    "Pour une série temporelle $(X_t)$, on peut créer une nouvelle série $(Y_t)$ de la manière suivante :\n",
    "$$Y_t=\\frac{1}{2k+1} \\sum_{l=t-k}^{t+k} X_l$$\n",
    "$(Y_t)$ s'appelle donc la moyenne mobile **d'ordre $k$**, $k$ étant le nombre de voisins à gauche (et à droite) que l'on considère pour moyenner.\n",
    "*Voir le repo Atelier3 pour l'utilisation de la moyenne mobile* "
   ]
  },
  {
   "cell_type": "markdown",
   "metadata": {},
   "source": [
    "#### Covariance \n",
    "La covariance entre deux variables aléatoires est un nombre permettant de quantifier leurs écarts conjoints par rapport à leurs espérances respectives. Elle s’utilise également pour deux séries de données numériques (écarts par rapport aux moyennes). La covariance est une extension de la notion de variance. La corrélation est une forme normalisée de la covariance (la dimension de la covariance entre deux variables est le produit de leurs dimensions, alors que la corrélation est une grandeur adimensionnelle). *La covariance de deux variables aléatoires indépendantes est nulle, bien que la réciproque ne soit pas toujours vraie.*"
   ]
  },
  {
   "cell_type": "markdown",
   "metadata": {},
   "source": [
    "$$\\operatorname{Cov}(X,Y)\\equiv \\operatorname{E}[(X-\\operatorname{E}[X])\\,(Y-\\operatorname{E}[Y])]$$\n"
   ]
  },
  {
   "cell_type": "markdown",
   "metadata": {},
   "source": [
    "#### Intervalle de confiance (I.C.) et niveau de confiance a)  \n",
    "Intervalle de valeurs d’une variable quantitative dont la probabilité (niveau de confiance, a) est forte (par exemple 95%). L’intervalle est \"Bilatéral\" s’il est symétrique (les probabilités des intervalles à gauche et à droite de l’I.C. sont égales à a/2), \"unilatéral\" s’il est \"cadré\" à gauche ou à droite de l’étendue des valeurs.\n",
    "\n",
    "#### Les séries temporelles \n",
    "Une série temporelle, ou série chronologique, est une suite de valeurs numériques représentant l'évolution d'une quantité spécifique au cours du temps. L'objet des séries temporelles est l'étude des variables au cours du temps. Parmi ses principaux objectifs figurent la détermination de tendances au sein de ces séries ainsi que la stabilité des valeurs (et de leur variation) au cours du temps.\n",
    "\n",
    "#### Prévision  \n",
    "Information concernant le futur. En statistique, ordre de grandeur pour la valeur future, donc inconnue, d’une statistique d’échantillon aléatoire, calculée à partir de valeurs statistiques connues de la population dont il est extrait.\n",
    "\n",
    "#### Test statistique \n",
    "Procédure pour juger de la vraisemblance de la valeur d’une statistique hypothétique d’une population. On compare la valeur observée pour une statistique d’échantillon au hasard dans cette population, à celles attendues en supposant l’hypothèse vraie. On juge l’hypothèse fausse, si l’écart observé est supérieur à un seuil, fixé en fonction d’un risque d’erreur.\n",
    "\n",
    "#### Distance \n",
    "En mathématiques, une distance est une application qui formalise l'idée intuitive de distance, c'est-à-dire la longueur qui sépare deux points. C'est par l'analyse des principales propriétés de la distance usuelle que Fréchet introduit la notion d'espace métrique, développée ensuite par Hausdorff. Elle introduit un langage géométrique dans de nombreuses questions d'analyse et de théorie des nombres. La formule de la distance euclidienne d'un point $x$ à un autre point $x'$ est : \n",
    "$$d(x, x') = \\sqrt{\\left(x_1 - x'_1 \\right)^2 + \\left(x_2 - x'_2 \\right)^2 + \\dotsc + \\left(x_n - x'_n \\right)^2} $$\n",
    "\n",
    "#### Erreur quadratique moyenne \n",
    "En statistiques, l’erreur quadratique moyenne d’un estimateur $\\hat \\theta$ d’un paramètre $\\theta$ de dimension 1 (mean squared error $\\operatorname {MSE}$, en anglais) est une mesure caractérisant la « précision » de cet estimateur. Elle est plus souvent appelée « erreur quadratique », la formule est la suivante :  \n",
    "$$\\operatorname {MSE}\\hat \\theta\\,= \\mathbb {E} \\left[(\\hat \\theta -\\theta )^{2}\\right]$$"
   ]
  },
  {
   "cell_type": "markdown",
   "metadata": {},
   "source": [
    "### Pour aller plus loin dans les statistique descriptive\n",
    "Pour plus de détail **google it** ! Plus sérieusement vous pouvez consulter <https://fr.wikipedia.org>, généralement on y trouve de très bon éléments de vulgarisation. En ce qui concerne la statistique descriptive à une dimension vous pouvez aussi jeter un oeil au cours en ligne suivant :  <https://zestedesavoir.com/tutoriels/1669/statistique-descriptive-a-une-dimension/>. "
   ]
  },
  {
   "attachments": {},
   "cell_type": "markdown",
   "metadata": {},
   "source": [
    "## La régression\n",
    "\n",
    "La régression est un ensemble de méthodes statistiques très utilisées pour analyser la relation d'une variable par rapport à une ou plusieurs autres. Il existe beaucoup de modèles de régression, le modèle le plus connu est le modèle de régression linéaire, très pratique et implémenté dans tous les logiciels de calculs. \n",
    "**Lorsque le modèle n'est pas linéaire, on peut effectuer une régression approchée par des algorithmes itératifs, on parle de régression non linéaire.**\n",
    "\n",
    "### Quelques modèles de régression \n",
    "- Régression linéaire multiple\n",
    "- Régression polynomiale\n",
    "- Régression logistique\n",
    "- Modèle linéaire généralisé\n",
    "- Régression non paramétrique\n",
    "- Modèles de régression multiple postulés et non postulés\n",
    "- Régression circulaire\n",
    "- Régression elliptique\n",
    "- Régression locale\n",
    "\n",
    "### En vrai  \n",
    "\n",
    "Faire une régression linéaire revient à modéliser une relation entre une variable et une (ou plusieur) autres variables par l'équation : $$y_i=\\beta_0 + \\beta_1 x_i $$\n",
    "\n",
    "En effet cette modélisation n'est pas tout-à-fait exacte, elle est même très simpliste. En écrivant cette équation, nous savons que nous commettons une certaine erreur entre la valeur prédite et la vraie valeur de la prochaine observation. Nous intégrons donc cette erreur à l'équation, en l'appelant *$\\varepsilon_i$*. L'équation devient donc : \n",
    "$$y_i=\\beta_0 + \\beta_1 x_i  + \\varepsilon_i$$\n",
    "\n",
    "Sous les hypothèses $(\\mathcal{H})$\n",
    "\n",
    "$$(\\mathcal{H}) : \\left\\{\\begin{matrix}\n",
    "\\mathbb{E}[\\varepsilon_i]=0\\\\ \n",
    "\\text{Cov}(\\varepsilon_i, \\varepsilon_j)=\\delta_{ij} \\sigma^2\n",
    "\\end{matrix}\\right.$$\n",
    "\n",
    "#### Le but du jeux \n",
    "\n",
    "Sur le graphique on voit que pour un point $i$ , on cherche à ce que la différence entre le $y_i$ (qui est la vraie valeur) et le $ŷ_i$ (qui est la valeur prédite par l'équation inexacte $y_i=\\beta_0 + \\beta_1 x_i  + \\varepsilon_i$) soit minimale.\n",
    "\n",
    "Il existe plusieurs manières de minimiser une erreur. La plus utilisée est celle qui minimise la somme des carrés de l'erreur $y_i−ŷ_i$ . On l'appelle **méthode des moindres carrés ordinaire (MCO)**.\n",
    "\n",
    "<img src=\"http://3.bp.blogspot.com/-M-eh1oV6NT0/Vn4nPWRl-LI/AAAAAAAAAbA/qiLz64Ky2Zw/s1600/regression.png\">\n"
   ]
  },
  {
   "cell_type": "markdown",
   "metadata": {},
   "source": [
    "Dans le cas multiple (pour $p$ variables explicatives), on a\n",
    "$$Y=X^\\top \\beta + \\varepsilon$$\n",
    "Sous les hypothèses\n",
    "$$(\\mathcal{H}) : \\left\\{\\begin{matrix}\n",
    "\\text{rank}(X)=p\\\\ \n",
    "\\mathbb{E}[\\varepsilon]=0 \\text{ et }\\text{Var}(\\varepsilon)=\\sigma^2 I_p\n",
    "\\end{matrix}\\right.$$\n",
    "\n",
    "Avec $X=( \\mathbf{1}, X_1, \\dots, X_n)$. La solution est des MCO est alors :\n",
    "\n",
    "$$\\hat{\\beta}= (X^\\top X)^{-1} X^\\top Y$$"
   ]
  },
  {
   "cell_type": "markdown",
   "metadata": {},
   "source": []
  },
  {
   "cell_type": "code",
   "execution_count": null,
   "metadata": {},
   "outputs": [],
   "source": []
  }
 ],
 "metadata": {
  "kernelspec": {
   "display_name": "Python 3",
   "language": "python",
   "name": "python3"
  },
  "language_info": {
   "codemirror_mode": {
    "name": "ipython",
    "version": 3
   },
   "file_extension": ".py",
   "mimetype": "text/x-python",
   "name": "python",
   "nbconvert_exporter": "python",
   "pygments_lexer": "ipython3",
   "version": "3.6.2"
  }
 },
 "nbformat": 4,
 "nbformat_minor": 2
}
