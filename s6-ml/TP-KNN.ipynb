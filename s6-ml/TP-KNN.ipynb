{
 "cells": [
  {
   "cell_type": "markdown",
   "metadata": {},
   "source": [
    "# TP Sklearn & KMeans \n",
    "\n",
    "Le but de ce TP est de prendre en main la librairie *sklearn* et notament la méthode de patitionnement de donnée des [K-means](https://fr.wikipedia.org/wiki/K-moyennes).\n",
    "\n",
    "## Objectif \n",
    "À l'aide du [dataset iris](https://scikit-learn.org/stable/auto_examples/datasets/plot_iris_dataset.html) et de la méthode `KMeans` de sklearn, vous devez réaliser un partitionnement entre les données : `Petal width, Sepal length et Petal length` et visualiser le résultat à l'aide de `mpl_toolkits.mplot3d` sur un graphique 3D comme la figure ci-dessous. \n",
    "<img src=\"./KmeansResult.png\">"
   ]
  },
  {
   "cell_type": "code",
   "execution_count": null,
   "metadata": {},
   "outputs": [],
   "source": [
    "from sklearn.cluster import KMeans\n",
    "import matplotlib.pyplot as plt\n",
    "from mpl_toolkits.mplot3d import Axes3D\n",
    "import numpy as np\n",
    "%matplotlib inline\n",
    "##### CODE #####"
   ]
  }
 ],
 "metadata": {
  "kernelspec": {
   "display_name": "Python 3",
   "language": "python",
   "name": "python3"
  },
  "language_info": {
   "codemirror_mode": {
    "name": "ipython",
    "version": 3
   },
   "file_extension": ".py",
   "mimetype": "text/x-python",
   "name": "python",
   "nbconvert_exporter": "python",
   "pygments_lexer": "ipython3",
   "version": "3.7.1"
  }
 },
 "nbformat": 4,
 "nbformat_minor": 2
}
