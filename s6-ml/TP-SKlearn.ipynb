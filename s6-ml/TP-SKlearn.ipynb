{
 "cells": [
  {
   "cell_type": "markdown",
   "metadata": {},
   "source": [
    "# TP Sklearn : Knn & KMeans \n",
    "\n",
    "Le but de ce TP est de prendre en main la librairie *sklearn* et les méthodes de classification et de patitionnement de données, notamment les méthodes des [K-plus proches voisins](https://fr.wikipedia.org/wiki/M%C3%A9thode_des_k_plus_proches_voisins) et [K-means](https://fr.wikipedia.org/wiki/K-moyennes).\n",
    "\n",
    "\n",
    "## Vos objectifs \n",
    "\n",
    "\n",
    "### Objectifs n°1 : Maitriser le Knn \n",
    "À l'aide du [dataset iris](https://scikit-learn.org/stable/auto_examples/datasets/plot_iris_dataset.html) et de la méthode `Knn` de sklearn \n",
    "\n",
    "\n",
    "### Questions - Guidelines\n",
    "\n",
    "#### Q1\n",
    "Charger le jeux de données IRIS. Quel est le type du dataset? \n",
    "#### Q1-1 \n",
    "Afficher les types d'iris (`les target`) ainsi que les caractéristiques (`features`). \n",
    "#### Q1-2\n",
    "Donner le type de `la colonne data`, sa `shape` et afficher ses 5 premières caractéristiques. \n",
    "\n",
    "\n",
    "#### Q2\n",
    "Explorer la colonne target et donner son type et sa shape. \n",
    "Comment sont encodés les target (quels sont leur labels)? \n",
    "#### Q2-1\n",
    "Séparer le jeux de données via la `méthode split` de `sklearn` en 4 variables avec un `random_state=0` : \n",
    "```\n",
    "X_train\n",
    "Y_train \n",
    "X_test \n",
    "Y_test \n",
    "```\n",
    "Le jeux de données étant relativement petit, l'ensemble de test doit représenter 25% du dataset. Donner la `shape` de la colonne data. \n",
    "\n",
    "#### Q3\n",
    "Transformer le dataset iris importé en Dataframe. \n",
    "#### Q3-1\n",
    "Comme vous le savez, le travail du data scientist est très souvent de comprendre/expliciter les relations entre plusieurs variable. Pour cela, on utilise souvent [la notion de corrélation](https://fr.wikipedia.org/wiki/Corr%C3%A9lation_(statistiques)). \n",
    "Utiliser le `scatter plot` et commenter le graphique. Qu'en déduisez vous ? \n",
    "\n",
    "\n",
    "#### Q4\n",
    "Implémenter le classifieur `Knn` sur le bon ensemble de données. \n",
    "\n",
    "#### Q5\n",
    "Définir une nouvelle \"fleur\" sous forme de vecteur (voir X_new ci-dessous) et analyser la `shape` de ce nouveau vecteur. \n",
    "Réaliser une prédiction pour ce nouvel échantillon. \n",
    "#### Q5-1\n",
    "A quel type d'iris appartient cet individu ? Cela vous parait il cohérent ?\n",
    "```\n",
    "X_new = np.array([[5, 2.9, 1, 0.2]])\n",
    "```\n",
    "\n",
    "#### Q6\n",
    "Effectuez une prediction sur l'ensemble de test. \n",
    "#### Q6-1\n",
    "Analyser l'accuracy du classifieur et commentez votre résultat. \n"
   ]
  },
  {
   "cell_type": "code",
   "execution_count": 1,
   "metadata": {},
   "outputs": [],
   "source": [
    "import pandas as pd\n",
    "from matplotlib import * \n",
    "import numpy as np\n",
    "from sklearn.neighbors import KNeighborsClassifier\n",
    "from sklearn.model_selection import train_test_split\n",
    "from sklearn.datasets import load_iris\n",
    "%matplotlib inline\n",
    "##### CODE #####"
   ]
  },
  {
   "cell_type": "markdown",
   "metadata": {},
   "source": [
    "### Objectifs n°2 : utiliser les KMeans  \n",
    "À l'aide du [dataset iris](https://scikit-learn.org/stable/auto_examples/datasets/plot_iris_dataset.html) et de la méthode `KMeans` de sklearn, vous devez réaliser un partitionnement entre les données : `Largeur de Petal, longueur de Sepal et longueur de Petal` et visualiser le résultat à l'aide de `mpl_toolkits.mplot3d` sur un graphique 3D comme la figure ci-dessous. \n",
    "<img src=\"./KmeansResult.png\">\n"
   ]
  },
  {
   "cell_type": "code",
   "execution_count": 2,
   "metadata": {},
   "outputs": [],
   "source": [
    "from sklearn.cluster import KMeans\n",
    "import matplotlib.pyplot as plt\n",
    "from mpl_toolkits.mplot3d import Axes3D\n",
    "import numpy as np\n",
    "%matplotlib inline\n",
    "##### CODE #####"
   ]
  }
 ],
 "metadata": {
  "kernelspec": {
   "display_name": "Python 3",
   "language": "python",
   "name": "python3"
  },
  "language_info": {
   "codemirror_mode": {
    "name": "ipython",
    "version": 3
   },
   "file_extension": ".py",
   "mimetype": "text/x-python",
   "name": "python",
   "nbconvert_exporter": "python",
   "pygments_lexer": "ipython3",
   "version": "3.7.1"
  }
 },
 "nbformat": 4,
 "nbformat_minor": 2
}
