{
 "cells": [
  {
   "cell_type": "markdown",
   "metadata": {},
   "source": [
    "# TP Python & MongoDB \n",
    "\n",
    "\n",
    "## Les fonctions CRUD \n",
    "Faire un script qui crée une base de donnée contenant les infos suivantes : \n",
    "```\n",
    "\"id\": employeeId,\n",
    "\"name\":employeeName,\n",
    "\"age\":employeeAge,\n",
    "\"country\":employeeCountry\n",
    "```\n",
    "        \n",
    "Créer les fonctions suivante   \n",
    "\n",
    "- insert() : demande à l'utilisateur de rentrer les infos de l'employé, id, name, age, country.  \n",
    "- update() : update un employé via son id, name, age et country. \n",
    "- read() : lire les collections et afficher les informations des employés: id, name, age et country.\n",
    "- delete() : suprimer un employé avec son id. \n",
    "\n",
    "L'utilisation de la méthode `input` est recommandée. \n",
    "\n",
    "\n",
    "##  Un peu de pre-processing avec la team Star Wars  \n",
    "\n",
    "Importer les 10 premiers personages de star wars depuis l'api du site [swapi](https://swapi.co/) et les ranger dans un dataframe de laçon suivante : \n",
    "<img src=\"./StarWarsResult.png\">"
   ]
  },
  {
   "cell_type": "code",
   "execution_count": null,
   "metadata": {},
   "outputs": [],
   "source": [
    "import requests\n",
    "##### CODE #####"
   ]
  }
 ],
 "metadata": {
  "kernelspec": {
   "display_name": "Python 3",
   "language": "python",
   "name": "python3"
  },
  "language_info": {
   "codemirror_mode": {
    "name": "ipython",
    "version": 3
   },
   "file_extension": ".py",
   "mimetype": "text/x-python",
   "name": "python",
   "nbconvert_exporter": "python",
   "pygments_lexer": "ipython3",
   "version": "3.7.1"
  }
 },
 "nbformat": 4,
 "nbformat_minor": 2
}
