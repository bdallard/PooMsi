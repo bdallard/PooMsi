{
 "cells": [
  {
   "cell_type": "markdown",
   "metadata": {},
   "source": [
    "# PyMongo Quickstart \n",
    "\n",
    "Comme vous le savez python peut gérer les bases de données. Si cela ne vous dis rien, je vous renvoie à la séance sur les bases de données relationnelles et le module SQLite. Python peut aussi gérer les bases de données non relationnelles, le NoSQL et notamment via MongoDB.\n",
    "\n",
    "## MongoDB\n",
    "[MongoDB](https://www.mongodb.com/) est un système de gestion de [base de données orientée documents](https://fr.wikipedia.org/wiki/Base_de_donn%C3%A9es_orient%C3%A9e_documents), répartissable sur un nombre quelconque d'ordinateurs et ne nécessitant pas de schéma prédéfini des données. Il est écrit en C++."
   ]
  },
  {
   "cell_type": "code",
   "execution_count": 1,
   "metadata": {},
   "outputs": [],
   "source": [
    "import pymongo \n",
    "from pymongo import MongoClient"
   ]
  },
  {
   "cell_type": "markdown",
   "metadata": {},
   "source": [
    "### Création de bases de données \n",
    "Afin de créer la base de donnée il faut créer un *client*, objet de PyMongo. On crée ensuite lle "
   ]
  },
  {
   "cell_type": "code",
   "execution_count": 2,
   "metadata": {},
   "outputs": [],
   "source": [
    "client = MongoClient(\"mongodb://localhost:27017/\")\n",
    "db = client[\"testdb\"]"
   ]
  },
  {
   "cell_type": "markdown",
   "metadata": {},
   "source": [
    "### Stockage \n",
    "MongoDB stocke les enregistrements de données sous forme de [documents BSON](http://bsonspec.org/). Le BSON étant la représentation binaire de JSON. Tout comme en SQL, on peut voir les bases de données présentes  `client.list_database_names()` et la méthode *list_database_names()*. "
   ]
  },
  {
   "cell_type": "code",
   "execution_count": 3,
   "metadata": {},
   "outputs": [
    {
     "name": "stdout",
     "output_type": "stream",
     "text": [
      "data base ok\n"
     ]
    }
   ],
   "source": [
    "if 'testdb' in client.list_database_names() : \n",
    "    print('data base ok')\n",
    "else : \n",
    "    print('not ok')"
   ]
  },
  {
   "cell_type": "markdown",
   "metadata": {},
   "source": [
    "### Les collections \n",
    "\n",
    "La classe Collection de PyMongo représente la construction de collection dans MongoDB. **Les collections contiennent des groupes de documents connexes.** Il est intéressant de noter que MongoDB crée implicitement de nouvelles bases de données et collections lors de la première utilisation. "
   ]
  },
  {
   "cell_type": "code",
   "execution_count": 4,
   "metadata": {},
   "outputs": [],
   "source": [
    "mycol = db[\"customers\"]\n",
    "mydict = { \"name\": \"John\", \"address\": \"Highway 37\" }\n",
    "#x = mycol.insert_one(mydict)"
   ]
  },
  {
   "cell_type": "code",
   "execution_count": 5,
   "metadata": {},
   "outputs": [
    {
     "name": "stdout",
     "output_type": "stream",
     "text": [
      "Collection in database\n"
     ]
    }
   ],
   "source": [
    "if 'customers' in db.list_collection_names() : print('Collection in database')"
   ]
  },
  {
   "cell_type": "markdown",
   "metadata": {},
   "source": [
    "### Insertion par dictionnaire  \n",
    "Bien connaire [les méthodes relatives aux dictionnaires](https://www.w3schools.com/python/python_ref_dictionary.asp) peut s'avérer utile.  "
   ]
  },
  {
   "cell_type": "code",
   "execution_count": 6,
   "metadata": {},
   "outputs": [],
   "source": [
    "mylist = [\n",
    "  { \"_id\": 1, \"name\": \"John\", \"address\": \"Highway 37\"},\n",
    "  { \"_id\": 2, \"name\": \"Peter\", \"address\": \"Lowstreet 27\"},\n",
    "  { \"_id\": 3, \"name\": \"Amy\", \"address\": \"Apple st 652\"},\n",
    "  { \"_id\": 4, \"name\": \"Hannah\", \"address\": \"Mountain 21\"},\n",
    "  { \"_id\": 5, \"name\": \"Michael\", \"address\": \"Valley 345\"},\n",
    "  { \"_id\": 6, \"name\": \"Sandy\", \"address\": \"Ocean blvd 2\"},\n",
    "  { \"_id\": 7, \"name\": \"Betty\", \"address\": \"Green Grass 1\"},\n",
    "  { \"_id\": 8, \"name\": \"Richard\", \"address\": \"Sky st 331\"},\n",
    "  { \"_id\": 9, \"name\": \"Susan\", \"address\": \"One way 98\"},\n",
    "  { \"_id\": 10, \"name\": \"Vicky\", \"address\": \"Yellow Garden 2\"},\n",
    "  { \"_id\": 11, \"name\": \"Ben\", \"address\": \"Park Lane 38\"},\n",
    "  { \"_id\": 12, \"name\": \"William\", \"address\": \"Central st 954\"},\n",
    "  { \"_id\": 13, \"name\": \"Chuck\", \"address\": \"Main Road 989\"},\n",
    "  { \"_id\": 14, \"name\": \"Viola\", \"address\": \"Sideway 1633\"}\n",
    "]\n",
    "\n",
    "#x = mycol.insert_many(mylist)"
   ]
  },
  {
   "cell_type": "markdown",
   "metadata": {},
   "source": [
    "### Affichage et tris \n",
    "L'intérogation de la base de données s'effectue avec la méthode `find(filter=None, projection=None, skip=0, limit=0, no_cursor_timeout=False)`. On peut aussi trier les résultat avec`sort(_item)`. "
   ]
  },
  {
   "cell_type": "code",
   "execution_count": 7,
   "metadata": {},
   "outputs": [
    {
     "name": "stdout",
     "output_type": "stream",
     "text": [
      "{'_id': 1, 'name': 'John', 'address': 'Highway 37'}\n",
      "{'_id': 2, 'name': 'Peter', 'address': 'Lowstreet 27'}\n",
      "{'_id': 3, 'name': 'Amy', 'address': 'Apple st 652'}\n",
      "{'_id': 4, 'name': 'Hannah', 'address': 'Mountain 21'}\n",
      "{'_id': 5, 'name': 'Michael', 'address': 'Canyon 123'}\n",
      "{'_id': 6, 'name': 'Sandy', 'address': 'Ocean blvd 2'}\n",
      "{'_id': 7, 'name': 'Betty', 'address': 'Green Grass 1'}\n",
      "{'_id': 8, 'name': 'Richard', 'address': 'Sky st 331'}\n",
      "{'_id': 9, 'name': 'Susan', 'address': 'One way 98'}\n",
      "{'_id': 10, 'name': 'Vicky', 'address': 'Yellow Garden 2'}\n",
      "{'_id': 11, 'name': 'Ben', 'address': 'Park Lane 38'}\n",
      "{'_id': 12, 'name': 'William', 'address': 'Central st 954'}\n",
      "{'_id': 13, 'name': 'Chuck', 'address': 'Main Road 989'}\n",
      "{'_id': 14, 'name': 'Viola', 'address': 'Sideway 1633'}\n"
     ]
    }
   ],
   "source": [
    "for w in mycol.find().sort(\"_id\") : \n",
    "    print(w)"
   ]
  },
  {
   "cell_type": "markdown",
   "metadata": {},
   "source": [
    "#### Filtrage via les item du dictionnaire "
   ]
  },
  {
   "cell_type": "code",
   "execution_count": 8,
   "metadata": {},
   "outputs": [
    {
     "name": "stdout",
     "output_type": "stream",
     "text": [
      "dict_items([('name', 'Peter'), ('address', 'Lowstreet 27')])\n",
      "dict_items([('name', 'Amy'), ('address', 'Apple st 652')])\n",
      "dict_items([('name', 'Hannah'), ('address', 'Mountain 21')])\n",
      "dict_items([('name', 'Michael'), ('address', 'Canyon 123')])\n",
      "dict_items([('name', 'Sandy'), ('address', 'Ocean blvd 2')])\n",
      "dict_items([('name', 'Betty'), ('address', 'Green Grass 1')])\n",
      "dict_items([('name', 'Richard'), ('address', 'Sky st 331')])\n",
      "dict_items([('name', 'Susan'), ('address', 'One way 98')])\n",
      "dict_items([('name', 'Vicky'), ('address', 'Yellow Garden 2')])\n",
      "dict_items([('name', 'Ben'), ('address', 'Park Lane 38')])\n",
      "dict_items([('name', 'William'), ('address', 'Central st 954')])\n",
      "dict_items([('name', 'Chuck'), ('address', 'Main Road 989')])\n",
      "dict_items([('name', 'Viola'), ('address', 'Sideway 1633')])\n",
      "dict_items([('name', 'John'), ('address', 'Highway 37')])\n"
     ]
    }
   ],
   "source": [
    "for x in mycol.find({},{ \"name\": 1, \"_id\" : 0, \"address\":1 }):\n",
    "    print(x.items()) "
   ]
  },
  {
   "cell_type": "markdown",
   "metadata": {},
   "source": [
    "#### Filtrage via les regex \n",
    "[Les expression régulière](https://fr.wikipedia.org/wiki/Expression_r%C3%A9guli%C3%A8re) peuvent s'avérer très utile aussi pour filtrer rapidement votre base :"
   ]
  },
  {
   "cell_type": "code",
   "execution_count": 9,
   "metadata": {},
   "outputs": [
    {
     "name": "stdout",
     "output_type": "stream",
     "text": [
      "{'_id': 8, 'name': 'Richard', 'address': 'Sky st 331'}\n",
      "{'_id': 14, 'name': 'Viola', 'address': 'Sideway 1633'}\n"
     ]
    }
   ],
   "source": [
    "myquery = { \"address\": { \"$regex\": \"^S\" } }\n",
    "mydoc = mycol.find(myquery)\n",
    "#affichage des résultat\n",
    "for x in mydoc:\n",
    "  print(x)"
   ]
  },
  {
   "cell_type": "markdown",
   "metadata": {},
   "source": [
    "#### Utilisation avec les conditions \n",
    "Un exemple de condition IF : "
   ]
  },
  {
   "cell_type": "code",
   "execution_count": 10,
   "metadata": {},
   "outputs": [
    {
     "name": "stdout",
     "output_type": "stream",
     "text": [
      "Ben existe bien \n"
     ]
    }
   ],
   "source": [
    "if mycol.find({'name': 'Ben'}) : print('Ben existe bien ')"
   ]
  },
  {
   "cell_type": "markdown",
   "metadata": {},
   "source": [
    "### Suprimer un item  "
   ]
  },
  {
   "cell_type": "code",
   "execution_count": 11,
   "metadata": {},
   "outputs": [
    {
     "name": "stdout",
     "output_type": "stream",
     "text": [
      "1 item ont été supprimés\n"
     ]
    }
   ],
   "source": [
    "res = mycol.delete_one({\"name\":\"John\"})\n",
    "print(\"{} item ont été supprimés\".format(res.deleted_count))"
   ]
  },
  {
   "cell_type": "markdown",
   "metadata": {},
   "source": [
    "\n",
    "### Suprimer des collections \n",
    "```\n",
    "x = mycol.delete_many({})\n",
    "print(x.deleted_count, \" documents deleted.\")\n",
    "```"
   ]
  },
  {
   "cell_type": "markdown",
   "metadata": {},
   "source": [
    "### Update \n",
    "Mettre à jour un seul document correspondant au filtre `update_one(filter, update, upsert=False)`. Si on veut mettre à jour plusieurs documents correspondant on utilise donc le filtre `update_many(filter, update, upsert=False)`"
   ]
  },
  {
   "cell_type": "code",
   "execution_count": 12,
   "metadata": {},
   "outputs": [
    {
     "name": "stdout",
     "output_type": "stream",
     "text": [
      "{'_id': 12, 'name': 'William', 'address': 'Central st 954'}\n",
      "{'_id': 14, 'name': 'Viola', 'address': 'Sideway 1633'}\n",
      "{'_id': 10, 'name': 'Vicky', 'address': 'Yellow Garden 2'}\n",
      "{'_id': 9, 'name': 'Susan', 'address': 'One way 98'}\n",
      "{'_id': 6, 'name': 'Sandy', 'address': 'Ocean blvd 2'}\n"
     ]
    }
   ],
   "source": [
    "myquery = { \"address\": \"Valley 345\" }\n",
    "newvalues = { \"$set\": { \"address\": \"Canyon 123\" } }\n",
    "#mise à jour de la base \n",
    "mycol.update_one(myquery, newvalues)\n",
    "#tris et limitation d'affichage \n",
    "for x in mycol.find().sort(\"name\",-1).limit(5):\n",
    "    print(x)"
   ]
  },
  {
   "cell_type": "markdown",
   "metadata": {},
   "source": [
    "### Affichage "
   ]
  },
  {
   "cell_type": "code",
   "execution_count": 13,
   "metadata": {},
   "outputs": [
    {
     "name": "stdout",
     "output_type": "stream",
     "text": [
      "John : Highway 37\n",
      "Peter : Lowstreet 27\n",
      "Amy : Apple st 652\n",
      "Hannah : Mountain 21\n",
      "Michael : Valley 345\n",
      "Sandy : Ocean blvd 2\n",
      "Betty : Green Grass 1\n",
      "Richard : Sky st 331\n",
      "Susan : One way 98\n",
      "Vicky : Yellow Garden 2\n",
      "Ben : Park Lane 38\n",
      "William : Central st 954\n",
      "Chuck : Main Road 989\n",
      "Viola : Sideway 1633\n"
     ]
    }
   ],
   "source": [
    "for x in mylist: \n",
    "    print('{0} : {1}'.format(x['name'], x['address']))"
   ]
  },
  {
   "cell_type": "markdown",
   "metadata": {},
   "source": [
    "### Filtrage avancé \n",
    "\n",
    "Pour cette exemple nous nousbaserons sur une nouvelle collections *cars*. "
   ]
  },
  {
   "cell_type": "code",
   "execution_count": 14,
   "metadata": {},
   "outputs": [
    {
     "name": "stdout",
     "output_type": "stream",
     "text": [
      "['cars', 'customers', 'Employees']\n"
     ]
    }
   ],
   "source": [
    "cars = [ {'name': 'Audi', 'price': 52642},\n",
    "    {'name': 'Mercedes', 'price': 57127},\n",
    "    {'name': 'Skoda', 'price': 9000},\n",
    "    {'name': 'Volvo', 'price': 29000},\n",
    "    {'name': 'Bentley', 'price': 350000},\n",
    "    {'name': 'Citroen', 'price': 21000},\n",
    "    {'name': 'Hummer', 'price': 41400},\n",
    "    {'name': 'Volkswagen', 'price': 21600} ]\n",
    "myCars = db[\"cars\"]\n",
    "myCars.insert_many(cars)\n",
    "print(db.list_collection_names())"
   ]
  },
  {
   "cell_type": "code",
   "execution_count": 15,
   "metadata": {},
   "outputs": [
    {
     "name": "stdout",
     "output_type": "stream",
     "text": [
      "Il y a 16 voiture dans notre collection : \n",
      "\n",
      " Collection(Database(MongoClient(host=['localhost:27017'], document_class=dict, tz_aware=False, connect=True), 'testdb'), 'cars')\n"
     ]
    },
    {
     "name": "stderr",
     "output_type": "stream",
     "text": [
      "/Library/Frameworks/Python.framework/Versions/3.6/lib/python3.6/site-packages/ipykernel_launcher.py:1: DeprecationWarning: count is deprecated. Use Collection.count_documents instead.\n",
      "  \"\"\"Entry point for launching an IPython kernel.\n"
     ]
    }
   ],
   "source": [
    "n_list = myCars.find().count()\n",
    "print(\"Il y a {} voiture dans notre collection : \\n\\n {}\".format(n_list, myCars))"
   ]
  },
  {
   "cell_type": "markdown",
   "metadata": {},
   "source": [
    "### L'agrégation \n",
    "Il s'agit simplement de fonctions s'appliquant sur un ensemble d'enregistrements permettant ainsi de compter le nombre d'enregistrements répondant à tels ou tels critères, de déterminer la moyenne des valeurs, de déterminer la plus petite ou la plus grande valeur, etc. Ici nous allons chercher à calculer la somme des prix de nos voiture. "
   ]
  },
  {
   "cell_type": "code",
   "execution_count": 16,
   "metadata": {},
   "outputs": [
    {
     "name": "stdout",
     "output_type": "stream",
     "text": [
      "La somme du prix des voiture est de : 1163538 €\n"
     ]
    }
   ],
   "source": [
    "agr = [ {'$group': {'_id': 1, 'all': { '$sum': '$price' } } } ]\n",
    "val = list(myCars.aggregate(agr))\n",
    "print('La somme du prix des voiture est de : {} €'.format(val[0]['all']))"
   ]
  },
  {
   "cell_type": "code",
   "execution_count": 17,
   "metadata": {},
   "outputs": [
    {
     "name": "stdout",
     "output_type": "stream",
     "text": [
      "La somme du prix des voiture est de : 163284 €\n"
     ]
    }
   ],
   "source": [
    "agr = [{ '$match': {'$or': [ { 'name': \"Audi\" }, { 'name': \"Volvo\" }] }}, { '$group': {'_id': 1, 'sum2cars': { '$sum': \"$price\" } }}]\n",
    "val = list(myCars.aggregate(agr))\n",
    "print('La somme du prix des voiture est de : {} €'.format(val[0]['sum2cars']))"
   ]
  }
 ],
 "metadata": {
  "kernelspec": {
   "display_name": "Python 3",
   "language": "python",
   "name": "python3"
  },
  "language_info": {
   "codemirror_mode": {
    "name": "ipython",
    "version": 3
   },
   "file_extension": ".py",
   "mimetype": "text/x-python",
   "name": "python",
   "nbconvert_exporter": "python",
   "pygments_lexer": "ipython3",
   "version": "3.7.1"
  }
 },
 "nbformat": 4,
 "nbformat_minor": 2
}
