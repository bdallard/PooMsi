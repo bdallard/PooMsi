{
 "cells": [
  {
   "cell_type": "markdown",
   "metadata": {},
   "source": [
    "# Communications réseau\n",
    "\n",
    "Avant de déployer un modèle de Machine Learning, il est important de comprendre les communications réseaux. En effet, dès lors qu'un modèle est accessible en ligne, il doit être déployé sur un **serveur**, très souvent distant de notre ordinateur. Il devient donc nécessaire de gérer l'état de ce serveur et de son interaction avec différentes entités."
   ]
  },
  {
   "cell_type": "markdown",
   "metadata": {},
   "source": [
    "## Concepts fondamentaux\n",
    "\n",
    "Un réseau est une **ensemble d'entités en communication**. Ces entités sont souvent des ordinateurs personnels ou des serveurs. On distingue plusieurs typologies de réseau :\n",
    "- LAN (Local Area Network) à l'échelle d'une pièce ou d'un bâtiment\n",
    "- MAN (Metropolitan Area Network) à l'échelle d'une ville\n",
    "- WAN (Wide Area Network) à l'échelle du monde\n",
    "\n",
    "<img src=\"http://www.ufr-mig.ups-tlse.fr/NTIC/tice/e-l2reseaux/Introduction/images/classification1.gif\">\n"
   ]
  },
  {
   "cell_type": "markdown",
   "metadata": {},
   "source": [
    "## Protocoles de communication\n",
    "\n",
    "Afin de communiquer entre eux, les entités ont besoin de parler **la même langue** en fonction de leurs besoins. Ce besoin de communication aboutit a des normes qui sont devenues des **protocoles de communication**. Le modèle OSI, définie par l'ISO, classe les protocoles dans un modèle à $7$ couches, en fonction de leur application :\n",
    "\n",
    "- (7) **Application** : Point d'accès aux services réseaux (messagerie, transfert de fichier, P2P, etc.)\n",
    "- (6) **Présentation** : Gère le chiffrement/déchiffrement des données et convertit des données machines en données exploitables.\n",
    "- (5) **Session** : Gère le dialogue entre les différentes applications (qui parle, qui attend, etc.). Gère les reprises suite aux pannes de dialogue.\n",
    "- (4) **Transport** : Gère le bon acheminement des messages et optimise les ressources du réseau. Utilise les messages de la couche session, les découpe s'il le faut en unités plus petites et les transmet à la couche réseau, tout en s'assurant que les morceaux arrivent correctement de l'autre côté. Cette couche rassemble aussi les morceaux du message à la réception.\n",
    "- (3) **Réseau** : C'est la couche qui permet de gérer le routage des paquets et l'engorgement du réseau.\n",
    "- (2) **Liaison** : Elle fractionne les données d'entrée de l'émetteur physique (signaux) en trames, en gérant le début et la fin de celles-ci, transmet ces trames en séquences et gère les trames d'acquittement renvoyées par le récepteur. Cette couche détecte et corrige (quand elle peut) certaines erreurs intervenues sur la couche physique.\n",
    "- (1) **Physique** : La couche physique s'occupe de la transmission des bits sur un canal de communication. Cette couche doit garantir la parfaite transmission des données (un bit 1 envoyé doit bien être reçu comme bit valant 1). Cette couche normalise les tensions de seuil faisant passer un bit de 0 à 1 ainsi que les caractéristiques physiques des connecteurs de liaisons (forme des connecteurs et topologies).\n",
    "\n",
    "<img src=\"https://upload.wikimedia.org/wikipedia/commons/thumb/8/8d/OSI_Model_v1.svg/langfr-330px-OSI_Model_v1.svg.png\">\n",
    "\n",
    "Le réseau **Internet** est défini par l'ensemble des protocoles qui reposent sur la suite **TCP/IP** de la couche de transport. Par exemples, les protocoles HTTP et HTTPS pour les pages Web et SMTP (ou POP3) pour les mails appartiennent à la couche applicative et sont dans la suite TCP/IP.\n",
    "\n"
   ]
  },
  {
   "cell_type": "markdown",
   "metadata": {},
   "source": [
    "## Adresses IP\n",
    "\n",
    "Caractéristiques indispensables des entités du réseau, les adresses IP jouent un rôle essentiel dans l'identification de celles-ci. Il existe actuellement deux versions : **IPv4** et **IPv6**.\n",
    "\n",
    "Le protocole IPv4 est la quatrième révision du protocole IP (Internet Protocol). C'est la première à avoir été déployée à grande échelle. Elle est toujours en 2014 la base de la majorité des communications Internet.\n",
    "\n",
    "Une adresse IPv4 (Internet Protocol Version 4) est un nombre de 32 bits composé de 4 numéros allant de 0 à 255 (4 numéros de 8 bits, sauf le dernier numéro qui ne peut excéder 254) séparés par des points. En théorie, il y a $2^{32}$ soit 4 294 967 296 adresses IP différentes possibles. En réalité, il y en a beaucoup moins, car de nombreuses adresses IP sont réservées. Voici les plages d'adresses IP réservées :\n",
    "\n",
    "- 10.0.0.1 à 10.255.255.254\n",
    "- 172.16.0.1 à 172.31.255.254\n",
    "- 192.168.0.1 à 192.168.255.254\n",
    "\n",
    "Il existe une adresse particulière, souvent appelée **loopback** et **localhost**, qui pointe directement sur l'ordinateur sans passer par le réseau extérieur : 127.0.0.1"
   ]
  },
  {
   "cell_type": "raw",
   "metadata": {},
   "source": [
    "ping 127.0.0.1"
   ]
  },
  {
   "cell_type": "markdown",
   "metadata": {},
   "source": [
    "Il est possible de connaître l'adresse IP de son ordinateur (et de ses périphériques) avec la commande suivante :"
   ]
  },
  {
   "cell_type": "raw",
   "metadata": {},
   "source": [
    "ipconfig # Sur Windows\n",
    "ifconfig # Sur Linux/Mac"
   ]
  },
  {
   "cell_type": "markdown",
   "metadata": {},
   "source": [
    "## Ports informatique"
   ]
  },
  {
   "cell_type": "markdown",
   "metadata": {},
   "source": [
    "Lors d'une communication en réseau, les différents ordinateurs et périphériques s'échangent des informations qui sont généralement destinées à une application distincte (le client mail ou le navigateur internet par exemple).\n",
    "\n",
    "Ces informations transitent par la même adresse IP la plupart du temps. Il est nécessaire de savoir à quelle application telle information est destinée. C'est là qu'intervient la notion de port informatique.\n",
    "\n",
    "Un port est un numéro unique codé sur $16$ bits. Il y a donc $65536$ ports différents possibles. Certains sont réservés, il y en a donc en réalité moins que ça.\n",
    "\n",
    "On peut faire l'analogie suivante avec un port informatique : un port représente une porte. Lorsqu'une application qui a besoin de communiquer en réseau se lance, elle ouvre sa propre porte (qui porte toujours le même numéro). Lorsqu'elle enverra des informations, elle spécifiera qu'elle les envoie sur la porte numéro X de l'ordinateur distant. On parle alors de **multiplexage** des données.\n",
    "\n",
    "Pour communiquer, les entités ont donc besoin de l'adresse IP ainsi que du port : on appelle cela **un socket**.\n",
    "\n",
    "Vers qui le socket **216.58.204.99:80** est-il adressé ?"
   ]
  }
 ],
 "metadata": {
  "kernelspec": {
   "display_name": "Python 3",
   "language": "python",
   "name": "python3"
  },
  "language_info": {
   "codemirror_mode": {
    "name": "ipython",
    "version": 3
   },
   "file_extension": ".py",
   "mimetype": "text/x-python",
   "name": "python",
   "nbconvert_exporter": "python",
   "pygments_lexer": "ipython3",
   "version": "3.6.2"
  }
 },
 "nbformat": 4,
 "nbformat_minor": 2
}
