{
 "cells": [
  {
   "cell_type": "markdown",
   "metadata": {},
   "source": [
    "# API (Application Programmable Interface)\n",
    "\n",
    "Une API (pour Application Programmable Interface) est un ensemble de fonctions permettant aux services d’une application. Une API est peut être distribué localement dans un programme informatique (accessible uniquement par un algorithme), ou au contraire peut avoir vocation a être utilisée par un plus grand nombre d'acteurs."
   ]
  },
  {
   "cell_type": "markdown",
   "metadata": {},
   "source": [
    "## Service Web\n",
    "\n",
    "Dans ce notebook, nous nous intéressons surtout au API Web, c'est-à-dire celles qui permettent de fournir une interface accessible en ligne. Cela est le cas lorsque l'on effectue une requête à un serveur afin que l'on reçoive le résultat d'un traitement."
   ]
  },
  {
   "cell_type": "markdown",
   "metadata": {},
   "source": [
    "## REST\n",
    "\n",
    "L'architecture REST est, depuis $10$ ans, une des architectures les plus utilisées. En effet, elle est rapide a mettre en place, extrêmement puissante et répond à une très large majorité des cas. Par exemple, supposons que l'on souhaite un ensemble de programmes (site Web, application Smartphone) permettant de réserver et de gérer ses vols d'avions. Une architecture REST pourrait centraliser les fonctionnalités comme le montre le diagramme suivant.\n",
    "\n",
    "![Exemple d'architecture REST](https://i.ytimg.com/vi/UQwjytQzoqE/maxresdefault.jpg)\n"
   ]
  },
  {
   "cell_type": "markdown",
   "metadata": {},
   "source": [
    "## Routes\n",
    "\n",
    "Les requêtes HTTP se caractérisent par des **routes** : il s'agit d'un chemin permettant de structurer l'accessibilité des opérations. Reprenons l'exemple de gestion de vols d'avions :\n",
    "- la route http://monserveur.com/list permet de lister les vols disponibles\n",
    "- la route http://monserveur.com/fly permet d'ajouter ou modifier un vol\n",
    "- la route http://monserveur.com/action/disconnect permet de déconnecter l'utilisateur\n",
    "Cette structuration permet ainsi d'organiser toutes les fonctionnalités disponibles via l'API de manière cohérente et ergonomique. Les routes *list*, *fly* et *action/disconnect* sont donc définies par l'architecte logiciel dans le code de l'API.\n",
    "\n",
    "## Verbes HTTP\n",
    "\n",
    "La philosophie de l'architecture REST est de proposer une route permettant d'effectuer un traitement en rapport avec une action précise. Par exemple, la route *fly* permet d'ajouter ou modifier un vol, mais comment spécifie-t-on précisement si l'on souhaite ajouter, modifier ou supprimer un vol ? C'est ainsi que les verbes HTTP ont été conçus pour faciliter cette interaction :\n",
    "\n",
    "- **GET** effectue une lecture\n",
    "- **POST** crée une donnée\n",
    "- **PUT** met à jour une donnée\n",
    "- **DELETE** supprime une donnée\n",
    "\n",
    "En l'occurence, la requête pour obtenir la liste des vols disponibles serait :"
   ]
  },
  {
   "cell_type": "markdown",
   "metadata": {},
   "source": [
    "## Routes\n",
    "\n",
    "Les requêtes HTTP se caractérisent par des **routes** : il s'agit d'un chemin permettant de structurer l'accessibilité des opérations. Reprenons l'exemple de gestion de vols d'avions :\n",
    "- la route http://monserveur.com/list permet de lister les vols disponibles\n",
    "- la route http://monserveur.com/fly permet d'ajouter ou modifier un vol\n",
    "- la route http://monserveur.com/action/disconnect permet de déconnecter l'utilisateur\n",
    "Cette structuration permet ainsi d'organiser toutes les fonctionnalités disponibles via l'API de manière cohérente et ergonomique. Les routes *list*, *fly* et *action/disconnect* sont donc définies par l'architecte logiciel dans le code de l'API.\n",
    "\n",
    "## Verbes HTTP\n",
    "\n",
    "La philosophie de l'architecture REST est de proposer une route permettant d'effectuer un traitement en rapport avec une action précise. Par exemple, la route *fly* permet d'ajouter ou modifier un vol, mais comment spécifie-t-on précisement si l'on souhaite ajouter, modifier ou supprimer un vol ? C'est ainsi que les verbes HTTP ont été conçus pour faciliter cette interaction :\n",
    "\n",
    "- **GET** effectue une lecture\n",
    "- **POST** crée une donnée\n",
    "- **PUT** met à jour une donnée\n",
    "- **DELETE** supprime une donnée\n",
    "\n",
    "En l'occurence, la requête pour obtenir la liste des vols disponibles serait :"
   ]
  },
  {
   "cell_type": "markdown",
   "metadata": {},
   "source": [
    "De même, pour ajouter un vol, on utiliser le verbe POST."
   ]
  },
  {
   "cell_type": "raw",
   "metadata": {},
   "source": [
    "POST http://monserveur.com/fly"
   ]
  },
  {
   "cell_type": "markdown",
   "metadata": {},
   "source": [
    "Il est donc important de bien connaître à l'avance quel type d'opération l'on souhaite effectuer, d'où l'intérêt de fournir une documentation exhaustive lorsque l'on publie une API.\n",
    "\n",
    "### Méthode GET\n",
    "\n",
    "Lorsque l'on utilise le verbe GET, le serveur nous renvoie souvent un objet au format **JSON**. Il s'agit d'un format très populaire qui permet de gérer des données structurées. Par exemple, si je souhaite connaître les vols attribués à l'utilisateur PierreDurand, la méthode GET retourne une réponse au format JSON comme ceci :"
   ]
  },
  {
   "cell_type": "raw",
   "metadata": {},
   "source": [
    "GET http://monserveur.com/list/PierreDurand\n",
    "Response :\n",
    "{\n",
    "  \"user\": \"PierreDurand\",\n",
    "  \"flights\": [\n",
    "    {\n",
    "      \"from\": \"Paris\",\n",
    "      \"to\": \"London\",\n",
    "      \"date\": \"12/01/2019 18h35\"\n",
    "    },\n",
    "    {\n",
    "      \"from\": \"London\",\n",
    "      \"to\": \"Paris\",\n",
    "      \"date\": \"16/01/2019 08h48\"\n",
    "    }\n",
    "  ]\n",
    "}"
   ]
  },
  {
   "cell_type": "markdown",
   "metadata": {},
   "source": [
    "### Méthode POST\n",
    "\n",
    "Maintenant, l'utilisateur souhaite ajouter un vol de Paris à Berlin le 25/02/2019 à 12h50. La méthode POST permettrai alors d'ajouter ce vol en fournissant un JSON associé :"
   ]
  },
  {
   "cell_type": "raw",
   "metadata": {},
   "source": [
    "POST http://monserveur.com/fly\n",
    "Body=\n",
    "{\n",
    "  \"user\": \"PierreDurand\",\n",
    "  \"flight\":\n",
    "    {\n",
    "      \"from\": \"Paris\",\n",
    "      \"to\": \"Berlin\",\n",
    "      \"date\": \"25/02/2019 12h50\"\n",
    "    }\n",
    "}"
   ]
  },
  {
   "cell_type": "markdown",
   "metadata": {},
   "source": [
    "En effectuant de nouveau une requête GET, on peut voir que le vol a bien été ajouté dans la base de données."
   ]
  },
  {
   "cell_type": "raw",
   "metadata": {},
   "source": [
    "GET http://monserveur.com/list/PierreDurand\n",
    "Response :\n",
    "{\n",
    "  \"user\": \"PierreDurand\",\n",
    "  \"flights\": [\n",
    "    {\n",
    "      \"from\": \"Paris\",\n",
    "      \"to\": \"London\",\n",
    "      \"date\": \"12/01/2019 18h35\"\n",
    "    },\n",
    "    {\n",
    "      \"from\": \"London\",\n",
    "      \"to\": \"Paris\",\n",
    "      \"date\": \"16/01/2019 08h48\"\n",
    "    },\n",
    "    {\n",
    "      \"from\": \"Paris\",\n",
    "      \"to\": \"Berlin\",\n",
    "      \"date\": \"25/02/2019 12h50\"\n",
    "    }\n",
    "  ]\n",
    "}"
   ]
  },
  {
   "cell_type": "markdown",
   "metadata": {},
   "source": [
    "### Méthode PUT\n",
    "\n",
    "L'utilisateur ayant trouvé un vol identique moins cher à 10h39, il souhaite modifier sa réservation. Cela est possible via la requête PUT."
   ]
  },
  {
   "cell_type": "raw",
   "metadata": {},
   "source": [
    "PUT http://monserveur.com/fly\n",
    "Body=\n",
    "{\n",
    "  \"user\": \"PierreDurand\",\n",
    "  \"flight\":\n",
    "    {\n",
    "      \"from\": \"Paris\",\n",
    "      \"to\": \"Berlin\",\n",
    "      \"date\": \"25/02/2019 10h39\"\n",
    "    }\n",
    "}"
   ]
  },
  {
   "cell_type": "raw",
   "metadata": {},
   "source": [
    "GET http://monserveur.com/list/PierreDurand\n",
    "Response :\n",
    "{\n",
    "  \"user\": \"PierreDurand\",\n",
    "  \"flights\": [\n",
    "    {\n",
    "      \"from\": \"Paris\",\n",
    "      \"to\": \"London\",\n",
    "      \"date\": \"12/01/2019 18h35\"\n",
    "    },\n",
    "    {\n",
    "      \"from\": \"London\",\n",
    "      \"to\": \"Paris\",\n",
    "      \"date\": \"16/01/2019 08h48\"\n",
    "    },\n",
    "    {\n",
    "      \"from\": \"Paris\",\n",
    "      \"to\": \"Berlin\",\n",
    "      \"date\": \"25/02/2019 10h39\"\n",
    "    }\n",
    "  ]\n",
    "}"
   ]
  },
  {
   "cell_type": "markdown",
   "metadata": {},
   "source": [
    "## Codes HTTP\n",
    "\n",
    "Lorsque l'on effectue une requête, un code HTTP est automatiquement fourni. Ce code permet d'identifier le résultat d'une requête ou d'indiquer une éventuelle erreur lors du traitement d'une requête. Les plus connues sont :\n",
    "- 200 : Succès\n",
    "- 400 : Erreur de syntaxe\n",
    "- 404 : Introuvable\n",
    "- 403 : Interdit\n",
    "- 500 : Erreur interne\n",
    "\n",
    "Lorsque l'on code une API REST, il est fortement conseillé de fournir des codes HTTP spécifiques pour informer les utilisateurs de l'état d'une requête.\n",
    "Pour plus de détail voir [l'article wikipedia](https://fr.wikipedia.org/wiki/Liste_des_codes_HTTP) "
   ]
  },
  {
   "cell_type": "markdown",
   "metadata": {},
   "source": [
    "## Applications"
   ]
  },
  {
   "cell_type": "markdown",
   "metadata": {},
   "source": [
    "Nous allons dans un premier temps utliser l'API de Google Cloud Platform (GCP) Google Map afin d'aficher les datas utilisés précédament (voir le notebook `API.ipynb`). \n",
    "\n",
    "Dans les prochaines séance nous allons créer une petite API REST qui va implémenter l'exemple que nous avons déroulé jusqu'ici. Nous allons donc avoir deux scripts :\n",
    "- Le **serveur** qui centralisera et effectuera les opérations\n",
    "- Le **client** qui enverra les requêtes HTTP et agira comme un client"
   ]
  },
  {
   "cell_type": "code",
   "execution_count": null,
   "metadata": {},
   "outputs": [],
   "source": []
  }
 ],
 "metadata": {
  "kernelspec": {
   "display_name": "Python 3",
   "language": "python",
   "name": "python3"
  },
  "language_info": {
   "codemirror_mode": {
    "name": "ipython",
    "version": 3
   },
   "file_extension": ".py",
   "mimetype": "text/x-python",
   "name": "python",
   "nbconvert_exporter": "python",
   "pygments_lexer": "ipython3",
   "version": "3.6.2"
  }
 },
 "nbformat": 4,
 "nbformat_minor": 2
}
