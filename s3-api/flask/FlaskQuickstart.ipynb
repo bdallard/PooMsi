{
 "cells": [
  {
   "cell_type": "markdown",
   "metadata": {},
   "source": [
    "# Flask Quickstart \n",
    "\n",
    "Flask est un framework web, ou plutôt, un micro-framework, “micro” car Flask ne fait pas tout. Il est très apprécié pour sa légèreté et sa souplesse, avec son système de templates, on peut faire des prototypes assez rapidement. Si vous n'avez pas Flask, installez le via la commande suivant : \n",
    "```\n",
    "pip3 install Flask\n",
    "```"
   ]
  },
  {
   "cell_type": "code",
   "execution_count": 1,
   "metadata": {},
   "outputs": [],
   "source": [
    "from flask import Flask"
   ]
  },
  {
   "cell_type": "markdown",
   "metadata": {},
   "source": [
    "## Création de l'app \n",
    "\n",
    "L'app est un **objet fondamental**, vous devez vous en douter, la variable app est donc notre application. "
   ]
  },
  {
   "cell_type": "code",
   "execution_count": 2,
   "metadata": {},
   "outputs": [],
   "source": [
    "app = Flask(__name__)"
   ]
  },
  {
   "cell_type": "markdown",
   "metadata": {},
   "source": [
    "Lors de l’instanciation de app, vous noterez qu’on lui passe en paramètre `__name__` (qui vaut généralement `'__main__'`) \n",
    "\n",
    "\n",
    "## Les routes \n",
    "\n",
    "Les routes permettent de hiérarchiser votre application. La route ‘/’ est spéciale puisqu’elle représente la racine.\n",
    "\n",
    "#### Regardons maintenant le script `flask1.py`\n",
    "\n",
    "Le coeur du code réside dans la fonction index, c’est elle qui se charge de renvoyer le “Hello !”. Vous remarquerez qu’on a décoré cette fonction avec le décorateur @app.route qui prend en paramètre une route. *Cette route est celle par laquelle notre fonction sera accessible.*\n"
   ]
  },
  {
   "cell_type": "markdown",
   "metadata": {},
   "source": [
    "## Les templates : Inserer du HTML5/CSS3\n",
    "En tant que framework web Flask peut contenir du HTML et du CSS, et de façon assez intuitive en plus (voir le script `flask2.py`). On peut aussi passer une page html directement via la méthode `render_template('MaPage.html', titre=\"Yo bro\", list)` voir le script `flask2bis.py`. \n",
    "\n",
    "### Faire ses routes \n",
    "Comme le montre le script `flask3.py`\n",
    "Créons une page ‘/contact’ qui affiche quelques informations pour nous contacter (mail, téléphone) :"
   ]
  },
  {
   "cell_type": "code",
   "execution_count": 3,
   "metadata": {},
   "outputs": [
    {
     "name": "stderr",
     "output_type": "stream",
     "text": [
      " * Running on http://127.0.0.1:5000/ (Press CTRL+C to quit)\n",
      "127.0.0.1 - - [23/Feb/2019 00:48:51] \"GET / HTTP/1.1\" 200 -\n",
      "127.0.0.1 - - [23/Feb/2019 00:48:58] \"GET /contact HTTP/1.1\" 301 -\n",
      "127.0.0.1 - - [23/Feb/2019 00:48:58] \"GET /contact/ HTTP/1.1\" 200 -\n"
     ]
    }
   ],
   "source": [
    "@app.route('/')\n",
    "def accueil():\n",
    "    mots = [\"bonjour\", \"à\", \"toi,\", \"visiteur.\"]\n",
    "    puces = ''.join(\"<li>{}</li>\".format(m) for m in mots)\n",
    "    return \"\"\"<!DOCTYPE html>\n",
    "        <html>\n",
    "            <head>\n",
    "                <meta charset=\"utf-8\" />\n",
    "                <title>{titre}</title>\n",
    "            </head>\n",
    "        \n",
    "            <body>\n",
    "                <h1>{titre}</h1>\n",
    "                <ul>\n",
    "                    {puces}\n",
    "                </ul>\n",
    "            </body>\n",
    "        </html>\"\"\".format(titre=\"Bienvenue !\", puces=puces)\n",
    "\n",
    "@app.route('/contact/')\n",
    "def contact():\n",
    "    mail = \"jean@bon.fr\"\n",
    "    tel = \"01 23 45 67 89\"\n",
    "    return \"Mail: {} --- Tel: {}\".format(mail, tel)\n",
    "\n",
    "if __name__ == '__main__':\n",
    "    app.run(debug=False)\n"
   ]
  },
  {
   "cell_type": "code",
   "execution_count": null,
   "metadata": {},
   "outputs": [],
   "source": []
  }
 ],
 "metadata": {
  "kernelspec": {
   "display_name": "Python 3",
   "language": "python",
   "name": "python3"
  },
  "language_info": {
   "codemirror_mode": {
    "name": "ipython",
    "version": 3
   },
   "file_extension": ".py",
   "mimetype": "text/x-python",
   "name": "python",
   "nbconvert_exporter": "python",
   "pygments_lexer": "ipython3",
   "version": "3.6.2"
  }
 },
 "nbformat": 4,
 "nbformat_minor": 2
}
