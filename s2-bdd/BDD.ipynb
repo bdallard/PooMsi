{
 "cells": [
  {
   "cell_type": "markdown",
   "metadata": {},
   "source": [
    "# Les bases de données \n",
    "\n",
    "\n",
    "## Introduction \n",
    "\n",
    "Comme on a pu le voir dans les diapos de cours, une base de données est **un conteneur dans lequel il est possible de stocker des données de façon structurée.** Cette structure permet au programme informatique connectée à celle-ci de faire des recherches complexes.\n",
    "\n",
    "\n",
    "## Et python dans tout ca ! \n",
    "\n",
    "\n",
    "### SQLite\n",
    "Notre exemple de cours concernera le module python SQLite et plus particulièrement SQLite3.\n",
    "SQLite a été conçu pour être intégré dans le programme même. Pour des projets plus ambitieux type projets web ou infrastructure le choix de MySQL & SQL serait plus judicieux. \n"
   ]
  },
  {
   "cell_type": "code",
   "execution_count": 12,
   "metadata": {},
   "outputs": [],
   "source": [
    "import sqlite3"
   ]
  },
  {
   "cell_type": "markdown",
   "metadata": {},
   "source": [
    "#### Créer une base de données avec SQLite :"
   ]
  },
  {
   "cell_type": "code",
   "execution_count": 13,
   "metadata": {},
   "outputs": [],
   "source": [
    "conn = sqlite3.connect('./db/ma_base_exemple.db')"
   ]
  },
  {
   "cell_type": "markdown",
   "metadata": {},
   "source": [
    "Lorsque vous executerez votre programme vous remarquerez que si la base n'existe pas encore, un fichier sera crée dans le dossier de votre programme. Et si celui-ci existe déjà il sera réutilisé. Vous pouvez bien évidemment choisir l'emplacement de votre base de données en renseignant un path, exemple: \"/data/ma_base_exemple.db\" . *Il vous faudra cependant vérifier que le dossier existe avant de l'utiliser.*\n",
    "Il est également possible de travailler avec une base de données de manière temporaire:"
   ]
  },
  {
   "cell_type": "code",
   "execution_count": 10,
   "metadata": {},
   "outputs": [],
   "source": [
    "#Lorsque le travail que vous attendiez est terminé, pensez à fermer la connexion vers la base\n",
    "#conn.close()"
   ]
  },
  {
   "cell_type": "markdown",
   "metadata": {},
   "source": [
    "#### Un exemple de création de table : "
   ]
  },
  {
   "cell_type": "code",
   "execution_count": 17,
   "metadata": {},
   "outputs": [],
   "source": [
    "cursor = conn.cursor()\n",
    "cursor.execute(\"\"\"\n",
    "CREATE TABLE IF NOT EXISTS users(\n",
    "     id INTEGER PRIMARY KEY AUTOINCREMENT UNIQUE,\n",
    "     name TEXT,\n",
    "     age INTERGER\n",
    ")\n",
    "\"\"\")\n",
    "conn.commit()\n"
   ]
  },
  {
   "cell_type": "markdown",
   "metadata": {},
   "source": [
    "#### Supprimer la table "
   ]
  },
  {
   "cell_type": "code",
   "execution_count": 15,
   "metadata": {},
   "outputs": [],
   "source": [
    "cursor = conn.cursor()\n",
    "cursor.execute(\"\"\"\n",
    "DROP TABLE users\n",
    "\"\"\")\n",
    "conn.commit()"
   ]
  },
  {
   "cell_type": "markdown",
   "metadata": {},
   "source": [
    "#### Insérer des data \n",
    "\n",
    "Il existe plusieurs manière d'insérer des données, la plus simple étant celle-ci :"
   ]
  },
  {
   "cell_type": "code",
   "execution_count": 18,
   "metadata": {},
   "outputs": [
    {
     "data": {
      "text/plain": [
       "<sqlite3.Cursor at 0x104bc3490>"
      ]
     },
     "execution_count": 18,
     "metadata": {},
     "output_type": "execute_result"
    }
   ],
   "source": [
    "cursor.execute(\"\"\"\n",
    "INSERT INTO users(name, age) VALUES(?, ?)\"\"\", (\"olivier\", 30))"
   ]
  },
  {
   "cell_type": "markdown",
   "metadata": {},
   "source": [
    "#### Vous pouvez passer par un dictionnaire :"
   ]
  },
  {
   "cell_type": "code",
   "execution_count": 19,
   "metadata": {},
   "outputs": [
    {
     "data": {
      "text/plain": [
       "<sqlite3.Cursor at 0x104bc3490>"
      ]
     },
     "execution_count": 19,
     "metadata": {},
     "output_type": "execute_result"
    }
   ],
   "source": [
    "data = {\"name\" : \"olivier\", \"age\" : 30}\n",
    "cursor.execute(\"\"\"\n",
    "INSERT INTO users(name, age) VALUES(:name, :age)\"\"\", data)"
   ]
  },
  {
   "cell_type": "markdown",
   "metadata": {},
   "source": [
    "#### Vous pouvez récupérer l'id de la ligne que vous venez d'insérer de cette manière :"
   ]
  },
  {
   "cell_type": "code",
   "execution_count": 20,
   "metadata": {},
   "outputs": [
    {
     "name": "stdout",
     "output_type": "stream",
     "text": [
      "dernier id: 2\n"
     ]
    }
   ],
   "source": [
    "id = cursor.lastrowid\n",
    "print('dernier id: %d' % id)"
   ]
  },
  {
   "cell_type": "markdown",
   "metadata": {},
   "source": [
    "#### Il est également possible de faire plusieurs insert en une seule fois avec la fonction executemany :\n"
   ]
  },
  {
   "cell_type": "code",
   "execution_count": 21,
   "metadata": {},
   "outputs": [
    {
     "data": {
      "text/plain": [
       "<sqlite3.Cursor at 0x104bc3490>"
      ]
     },
     "execution_count": 21,
     "metadata": {},
     "output_type": "execute_result"
    }
   ],
   "source": [
    "users = []\n",
    "users.append((\"olivier\", 30))\n",
    "users.append((\"jean-louis\", 90))\n",
    "cursor.executemany(\"\"\"\n",
    "INSERT INTO users(name, age) VALUES(?, ?)\"\"\", users)"
   ]
  },
  {
   "cell_type": "markdown",
   "metadata": {},
   "source": [
    "#### Récupérer des données\n",
    "\n",
    "Vous pouvez récupérer la première ligne correspondant à votre recherche à l'aide de **la fonction fetchone.**"
   ]
  },
  {
   "cell_type": "code",
   "execution_count": 23,
   "metadata": {},
   "outputs": [
    {
     "name": "stdout",
     "output_type": "stream",
     "text": [
      "('olivier', 30)\n"
     ]
    }
   ],
   "source": [
    "cursor.execute(\"\"\"SELECT name, age FROM users\"\"\")\n",
    "user1 = cursor.fetchone()\n",
    "#print le TUPLE\n",
    "print(user1)"
   ]
  },
  {
   "cell_type": "markdown",
   "metadata": {},
   "source": [
    "#### Récupérer plusieur data \n",
    "Vous pouvez récupérer plusieurs données de la même recherche en utilisant **la fonction fetchall().**"
   ]
  },
  {
   "cell_type": "code",
   "execution_count": 24,
   "metadata": {},
   "outputs": [
    {
     "name": "stdout",
     "output_type": "stream",
     "text": [
      "1 : olivier - 30\n",
      "2 : olivier - 30\n",
      "3 : olivier - 30\n",
      "4 : jean-louis - 90\n"
     ]
    }
   ],
   "source": [
    "cursor.execute(\"\"\"SELECT id, name, age FROM users\"\"\")\n",
    "rows = cursor.fetchall()\n",
    "for row in rows:\n",
    "    print('{0} : {1} - {2}'.format(row[0], row[1], row[2]))"
   ]
  },
  {
   "cell_type": "code",
   "execution_count": 25,
   "metadata": {},
   "outputs": [
    {
     "name": "stdout",
     "output_type": "stream",
     "text": [
      "1 : olivier, 30\n",
      "2 : olivier, 30\n",
      "3 : olivier, 30\n",
      "4 : jean-louis, 90\n"
     ]
    }
   ],
   "source": [
    "#L'objet curseur fonctionne comme un itérateur, invoquant la méthode fetchall() automatiquement \n",
    "cursor.execute(\"\"\"SELECT id, name, age FROM users\"\"\")\n",
    "for row in cursor:\n",
    "    print('{0} : {1}, {2}'.format(row[0], row[1], row[2]))\n"
   ]
  },
  {
   "cell_type": "code",
   "execution_count": 27,
   "metadata": {},
   "outputs": [],
   "source": [
    "#Pour la recherche spécifique,on utilise la même logique vu précédemment :\n",
    "id = 2\n",
    "cursor.execute(\"\"\"SELECT id, name FROM users WHERE id=?\"\"\", (id,))\n",
    "response = cursor.fetchone()"
   ]
  },
  {
   "cell_type": "markdown",
   "metadata": {},
   "source": [
    "#### Gestion des erreurs \n"
   ]
  },
  {
   "cell_type": "code",
   "execution_count": 28,
   "metadata": {},
   "outputs": [
    {
     "name": "stdout",
     "output_type": "stream",
     "text": [
      "Erreur la table existe déjà\n"
     ]
    }
   ],
   "source": [
    "try:\n",
    "    conn = sqlite3.connect('db/users.db')\n",
    "    cursor = conn.cursor()\n",
    "    cursor.execute(\"\"\"\n",
    "CREATE TABLE users(\n",
    "    id INTEGER PRIMARY KEY AUTOINCREMENT UNIQUE,\n",
    "    name TEXT,\n",
    "    age INTERGER\n",
    ")\n",
    "\"\"\")\n",
    "    conn.commit()\n",
    "except sqlite3.OperationalError:\n",
    "    print('Erreur la table existe déjà')\n",
    "except Exception as e:\n",
    "    print(\"Erreur\")\n",
    "    conn.rollback()\n",
    "    # raise e\n",
    "finally:\n",
    "    conn.close()"
   ]
  },
  {
   "cell_type": "markdown",
   "metadata": {},
   "source": [
    "Les erreurs que vous pouvez intercepter :\n",
    "```\n",
    "Error\n",
    "DatabaseError\n",
    "DataError\n",
    "IntegrityError\n",
    "InternalError\n",
    "NotSupportedError\n",
    "OperationalError\n",
    "ProgrammingError\n",
    "InterfaceError\n",
    "Warning\n",
    "```"
   ]
  },
  {
   "cell_type": "code",
   "execution_count": null,
   "metadata": {},
   "outputs": [],
   "source": []
  }
 ],
 "metadata": {
  "kernelspec": {
   "display_name": "Python 3",
   "language": "python",
   "name": "python3"
  },
  "language_info": {
   "codemirror_mode": {
    "name": "ipython",
    "version": 3
   },
   "file_extension": ".py",
   "mimetype": "text/x-python",
   "name": "python",
   "nbconvert_exporter": "python",
   "pygments_lexer": "ipython3",
   "version": "3.6.2"
  }
 },
 "nbformat": 4,
 "nbformat_minor": 2
}
